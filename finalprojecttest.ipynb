{
 "cells": [
  {
   "cell_type": "markdown",
   "metadata": {},
   "source": [
    "# Final Project\n",
    "\n",
    "### Shortcuts\n",
    "- [Cleaning the Data](#section 1)<br>\n",
    "- [Visualisations](#section 2)<br>\n",
    "- [Color Space Visualisations](#section last)<br>"
   ]
  },
  {
   "cell_type": "markdown",
   "metadata": {},
   "source": [
    "#### Dependencies"
   ]
  },
  {
   "cell_type": "code",
   "execution_count": 309,
   "metadata": {},
   "outputs": [],
   "source": [
    "import numpy as np\n",
    "from datascience import *\n",
    "import pandas as pd\n",
    "\n",
    "import matplotlib.pyplot as plt\n",
    "import matplotlib\n",
    "%matplotlib inline\n",
    "#plt.style.use('fivethirtyeight')\n",
    "\n",
    "from bokeh.plotting import figure, output_file, show\n",
    "import seaborn as sns\n",
    "\n",
    "from colormath.color_objects import *\n",
    "from colormath.color_conversions import convert_color"
   ]
  },
  {
   "cell_type": "code",
   "execution_count": 176,
   "metadata": {},
   "outputs": [],
   "source": [
    "#for plotting\n",
    "from wcsHelper import *\n",
    "munsell_to_chip, chip_to_munsell, chip_to_clab, chip_to_rgb = readChipData('chipnum-info.txt')"
   ]
  },
  {
   "cell_type": "markdown",
   "metadata": {},
   "source": [
    "# Data<a id='section 1'>"
   ]
  },
  {
   "cell_type": "code",
   "execution_count": 177,
   "metadata": {},
   "outputs": [],
   "source": [
    "from wcs_helper_functions import *\n",
    "from wcs_table_helper import *\n",
    "\n",
    "coord_to_index, index_to_coord = readChipData('./WCS_data_core/chip.txt')\n",
    "coordToIndexTable, indexToCoordTable = loadChipTables(coord_to_index, index_to_coord)\n",
    "\n",
    "index_to_clab = readClabData('./WCS_data_core/cnum-vhcm-lab-new.txt')\n",
    "clabTable = loadClabTable(index_to_clab)\n",
    "\n",
    "namingData = readNamingData('./WCS_data_core/term.txt')\n",
    "namingTable = loadNamingTable(namingData)\n",
    "\n",
    "fociData = readFociData('./WCS_data_core/foci-exp.txt')\n",
    "fociTable = loadFociTable(fociData)\n",
    "\n",
    "speakerData = readSpeakerData('./WCS_data_core/spkr-lsas.txt')\n",
    "speakerTable = loadSpeakerTable(speakerData)"
   ]
  },
  {
   "cell_type": "code",
   "execution_count": 178,
   "metadata": {},
   "outputs": [
    {
     "data": {
      "text/html": [
       "<table border=\"1\" class=\"dataframe\">\n",
       "    <thead>\n",
       "        <tr>\n",
       "            <th>Index</th> <th>Coordinate</th> <th>l</th> <th>a</th> <th>b</th>\n",
       "        </tr>\n",
       "    </thead>\n",
       "    <tbody>\n",
       "        <tr>\n",
       "            <td>1    </td> <td>E29       </td> <td>61.70</td> <td>-4.52 </td> <td>-39.18</td>\n",
       "        </tr>\n",
       "    </tbody>\n",
       "        <tr>\n",
       "            <td>2    </td> <td>C23       </td> <td>81.35</td> <td>-19.64</td> <td>-4.30 </td>\n",
       "        </tr>\n",
       "    </tbody>\n",
       "        <tr>\n",
       "            <td>3    </td> <td>F4        </td> <td>51.57</td> <td>55.20 </td> <td>68.32 </td>\n",
       "        </tr>\n",
       "    </tbody>\n",
       "        <tr>\n",
       "            <td>4    </td> <td>I36       </td> <td>20.54</td> <td>24.14 </td> <td>-14.33</td>\n",
       "        </tr>\n",
       "    </tbody>\n",
       "        <tr>\n",
       "            <td>5    </td> <td>C20       </td> <td>81.35</td> <td>-33.04</td> <td>4.96  </td>\n",
       "        </tr>\n",
       "    </tbody>\n",
       "        <tr>\n",
       "            <td>6    </td> <td>C6        </td> <td>81.35</td> <td>14.87 </td> <td>30.96 </td>\n",
       "        </tr>\n",
       "    </tbody>\n",
       "        <tr>\n",
       "            <td>7    </td> <td>E15       </td> <td>61.70</td> <td>-46.97</td> <td>64.65 </td>\n",
       "        </tr>\n",
       "    </tbody>\n",
       "        <tr>\n",
       "            <td>8    </td> <td>H40       </td> <td>30.77</td> <td>47.63 </td> <td>5.24  </td>\n",
       "        </tr>\n",
       "    </tbody>\n",
       "        <tr>\n",
       "            <td>9    </td> <td>G6        </td> <td>41.22</td> <td>22.15 </td> <td>41.13 </td>\n",
       "        </tr>\n",
       "    </tbody>\n",
       "        <tr>\n",
       "            <td>10   </td> <td>I30       </td> <td>20.54</td> <td>7.63  </td> <td>-35.92</td>\n",
       "        </tr>\n",
       "    </tbody>\n",
       "</table>\n",
       "<p>... (320 rows omitted)</p>"
      ],
      "text/plain": [
       "Index | Coordinate | l     | a      | b\n",
       "1     | E29        | 61.70 | -4.52  | -39.18\n",
       "2     | C23        | 81.35 | -19.64 | -4.30\n",
       "3     | F4         | 51.57 | 55.20  | 68.32\n",
       "4     | I36        | 20.54 | 24.14  | -14.33\n",
       "5     | C20        | 81.35 | -33.04 | 4.96\n",
       "6     | C6         | 81.35 | 14.87  | 30.96\n",
       "7     | E15        | 61.70 | -46.97 | 64.65\n",
       "8     | H40        | 30.77 | 47.63  | 5.24\n",
       "9     | G6         | 41.22 | 22.15  | 41.13\n",
       "10    | I30        | 20.54 | 7.63   | -35.92\n",
       "... (320 rows omitted)"
      ]
     },
     "execution_count": 178,
     "metadata": {},
     "output_type": "execute_result"
    }
   ],
   "source": [
    "ctit = coordToIndexTable.join('Index', clabTable)\n",
    "ctit"
   ]
  },
  {
   "cell_type": "code",
   "execution_count": 179,
   "metadata": {},
   "outputs": [
    {
     "data": {
      "text/html": [
       "<table border=\"1\" class=\"dataframe\">\n",
       "    <thead>\n",
       "        <tr>\n",
       "            <th>Index</th> <th>l</th> <th>a</th> <th>b</th>\n",
       "        </tr>\n",
       "    </thead>\n",
       "    <tbody>\n",
       "        <tr>\n",
       "            <td>1    </td> <td>61.7 </td> <td>-4.52 </td> <td>-39.18</td>\n",
       "        </tr>\n",
       "    </tbody>\n",
       "        <tr>\n",
       "            <td>2    </td> <td>81.35</td> <td>-19.64</td> <td>-4.3  </td>\n",
       "        </tr>\n",
       "    </tbody>\n",
       "        <tr>\n",
       "            <td>3    </td> <td>51.57</td> <td>55.2  </td> <td>68.32 </td>\n",
       "        </tr>\n",
       "    </tbody>\n",
       "        <tr>\n",
       "            <td>4    </td> <td>20.54</td> <td>24.14 </td> <td>-14.33</td>\n",
       "        </tr>\n",
       "    </tbody>\n",
       "        <tr>\n",
       "            <td>5    </td> <td>81.35</td> <td>-33.04</td> <td>4.96  </td>\n",
       "        </tr>\n",
       "    </tbody>\n",
       "        <tr>\n",
       "            <td>6    </td> <td>81.35</td> <td>14.87 </td> <td>30.96 </td>\n",
       "        </tr>\n",
       "    </tbody>\n",
       "        <tr>\n",
       "            <td>7    </td> <td>61.7 </td> <td>-46.97</td> <td>64.65 </td>\n",
       "        </tr>\n",
       "    </tbody>\n",
       "        <tr>\n",
       "            <td>8    </td> <td>30.77</td> <td>47.63 </td> <td>5.24  </td>\n",
       "        </tr>\n",
       "    </tbody>\n",
       "        <tr>\n",
       "            <td>9    </td> <td>41.22</td> <td>22.15 </td> <td>41.13 </td>\n",
       "        </tr>\n",
       "    </tbody>\n",
       "        <tr>\n",
       "            <td>10   </td> <td>20.54</td> <td>7.63  </td> <td>-35.92</td>\n",
       "        </tr>\n",
       "    </tbody>\n",
       "</table>\n",
       "<p>... (320 rows omitted)</p>"
      ],
      "text/plain": [
       "Index | l     | a      | b\n",
       "1     | 61.7  | -4.52  | -39.18\n",
       "2     | 81.35 | -19.64 | -4.3\n",
       "3     | 51.57 | 55.2   | 68.32\n",
       "4     | 20.54 | 24.14  | -14.33\n",
       "5     | 81.35 | -33.04 | 4.96\n",
       "6     | 81.35 | 14.87  | 30.96\n",
       "7     | 61.7  | -46.97 | 64.65\n",
       "8     | 30.77 | 47.63  | 5.24\n",
       "9     | 41.22 | 22.15  | 41.13\n",
       "10    | 20.54 | 7.63   | -35.92\n",
       "... (320 rows omitted)"
      ]
     },
     "execution_count": 179,
     "metadata": {},
     "output_type": "execute_result"
    }
   ],
   "source": [
    "def str_to_float(arr):\n",
    "    new_arr = np.array([])\n",
    "    for i in arr:\n",
    "        new_arr = np.append(new_arr, float(i))\n",
    "    return new_arr\n",
    "\n",
    "clabsort = Table().with_column('Index', np.arange(1, 331))\n",
    "for i in np.arange(1, 4):\n",
    "    label = ['l', 'l', 'a', 'b']\n",
    "    flt = str_to_float(clabTable.column(i))\n",
    "    clabsort = clabsort.with_column(label[i], flt)\n",
    "clabsort"
   ]
  },
  {
   "cell_type": "code",
   "execution_count": 180,
   "metadata": {},
   "outputs": [
    {
     "data": {
      "text/html": [
       "<table border=\"1\" class=\"dataframe\">\n",
       "    <thead>\n",
       "        <tr>\n",
       "            <th>Coordinate</th> <th>Lightness</th> <th>Hue</th> <th>index</th> <th>l</th> <th>a</th> <th>b</th>\n",
       "        </tr>\n",
       "    </thead>\n",
       "    <tbody>\n",
       "        <tr>\n",
       "            <td>1         </td> <td>E        </td> <td>29  </td> <td>E29  </td> <td>61.7 </td> <td>-4.52 </td> <td>-39.18</td>\n",
       "        </tr>\n",
       "    </tbody>\n",
       "        <tr>\n",
       "            <td>2         </td> <td>C        </td> <td>23  </td> <td>C23  </td> <td>81.35</td> <td>-19.64</td> <td>-4.3  </td>\n",
       "        </tr>\n",
       "    </tbody>\n",
       "        <tr>\n",
       "            <td>3         </td> <td>F        </td> <td>4   </td> <td>F4   </td> <td>51.57</td> <td>55.2  </td> <td>68.32 </td>\n",
       "        </tr>\n",
       "    </tbody>\n",
       "        <tr>\n",
       "            <td>4         </td> <td>I        </td> <td>36  </td> <td>I36  </td> <td>20.54</td> <td>24.14 </td> <td>-14.33</td>\n",
       "        </tr>\n",
       "    </tbody>\n",
       "        <tr>\n",
       "            <td>5         </td> <td>C        </td> <td>20  </td> <td>C20  </td> <td>81.35</td> <td>-33.04</td> <td>4.96  </td>\n",
       "        </tr>\n",
       "    </tbody>\n",
       "        <tr>\n",
       "            <td>6         </td> <td>C        </td> <td>6   </td> <td>C6   </td> <td>81.35</td> <td>14.87 </td> <td>30.96 </td>\n",
       "        </tr>\n",
       "    </tbody>\n",
       "        <tr>\n",
       "            <td>7         </td> <td>E        </td> <td>15  </td> <td>E15  </td> <td>61.7 </td> <td>-46.97</td> <td>64.65 </td>\n",
       "        </tr>\n",
       "    </tbody>\n",
       "        <tr>\n",
       "            <td>8         </td> <td>H        </td> <td>40  </td> <td>H40  </td> <td>30.77</td> <td>47.63 </td> <td>5.24  </td>\n",
       "        </tr>\n",
       "    </tbody>\n",
       "        <tr>\n",
       "            <td>9         </td> <td>G        </td> <td>6   </td> <td>G6   </td> <td>41.22</td> <td>22.15 </td> <td>41.13 </td>\n",
       "        </tr>\n",
       "    </tbody>\n",
       "        <tr>\n",
       "            <td>10        </td> <td>I        </td> <td>30  </td> <td>I30  </td> <td>20.54</td> <td>7.63  </td> <td>-35.92</td>\n",
       "        </tr>\n",
       "    </tbody>\n",
       "</table>\n",
       "<p>... (320 rows omitted)</p>"
      ],
      "text/plain": [
       "Coordinate | Lightness | Hue  | index | l     | a      | b\n",
       "1          | E         | 29   | E29   | 61.7  | -4.52  | -39.18\n",
       "2          | C         | 23   | C23   | 81.35 | -19.64 | -4.3\n",
       "3          | F         | 4    | F4    | 51.57 | 55.2   | 68.32\n",
       "4          | I         | 36   | I36   | 20.54 | 24.14  | -14.33\n",
       "5          | C         | 20   | C20   | 81.35 | -33.04 | 4.96\n",
       "6          | C         | 6    | C6    | 81.35 | 14.87  | 30.96\n",
       "7          | E         | 15   | E15   | 61.7  | -46.97 | 64.65\n",
       "8          | H         | 40   | H40   | 30.77 | 47.63  | 5.24\n",
       "9          | G         | 6    | G6    | 41.22 | 22.15  | 41.13\n",
       "10         | I         | 30   | I30   | 20.54 | 7.63   | -35.92\n",
       "... (320 rows omitted)"
      ]
     },
     "execution_count": 180,
     "metadata": {},
     "output_type": "execute_result"
    }
   ],
   "source": [
    "indexcoordtable = indexToCoordTable.join('Coordinate', ctit, 'Index').relabel(3, 'index').drop(4, 5, 6)\n",
    "indexcoordclabtable = indexcoordtable.join('Coordinate', clabsort, 'Index')\n",
    "indexcoordclabtable"
   ]
  },
  {
   "cell_type": "code",
   "execution_count": 181,
   "metadata": {},
   "outputs": [
    {
     "data": {
      "text/html": [
       "<table border=\"1\" class=\"dataframe\">\n",
       "    <thead>\n",
       "        <tr>\n",
       "            <th>Language</th> <th>Speaker</th> <th>Term</th> <th>Foci</th> <th>Chip (foci)</th>\n",
       "        </tr>\n",
       "    </thead>\n",
       "    <tbody>\n",
       "        <tr>\n",
       "            <td>1       </td> <td>1      </td> <td>LF  </td> <td>A:0 </td> <td>A0         </td>\n",
       "        </tr>\n",
       "    </tbody>\n",
       "        <tr>\n",
       "            <td>1       </td> <td>1      </td> <td>WK  </td> <td>D:9 </td> <td>D9         </td>\n",
       "        </tr>\n",
       "    </tbody>\n",
       "        <tr>\n",
       "            <td>1       </td> <td>1      </td> <td>WK  </td> <td>D:10</td> <td>D10        </td>\n",
       "        </tr>\n",
       "    </tbody>\n",
       "        <tr>\n",
       "            <td>1       </td> <td>1      </td> <td>WK  </td> <td>D:11</td> <td>D11        </td>\n",
       "        </tr>\n",
       "    </tbody>\n",
       "        <tr>\n",
       "            <td>1       </td> <td>1      </td> <td>WK  </td> <td>D:12</td> <td>D12        </td>\n",
       "        </tr>\n",
       "    </tbody>\n",
       "        <tr>\n",
       "            <td>1       </td> <td>1      </td> <td>F   </td> <td>D:25</td> <td>D25        </td>\n",
       "        </tr>\n",
       "    </tbody>\n",
       "        <tr>\n",
       "            <td>1       </td> <td>1      </td> <td>LB  </td> <td>J:0 </td> <td>J0         </td>\n",
       "        </tr>\n",
       "    </tbody>\n",
       "        <tr>\n",
       "            <td>1       </td> <td>1      </td> <td>G   </td> <td>F:17</td> <td>F17        </td>\n",
       "        </tr>\n",
       "    </tbody>\n",
       "        <tr>\n",
       "            <td>1       </td> <td>1      </td> <td>LE  </td> <td>F:1 </td> <td>F1         </td>\n",
       "        </tr>\n",
       "    </tbody>\n",
       "        <tr>\n",
       "            <td>1       </td> <td>1      </td> <td>LE  </td> <td>F:2 </td> <td>F2         </td>\n",
       "        </tr>\n",
       "    </tbody>\n",
       "</table>\n",
       "<p>... (30981 rows omitted)</p>"
      ],
      "text/plain": [
       "Language | Speaker | Term | Foci | Chip (foci)\n",
       "1        | 1       | LF   | A:0  | A0\n",
       "1        | 1       | WK   | D:9  | D9\n",
       "1        | 1       | WK   | D:10 | D10\n",
       "1        | 1       | WK   | D:11 | D11\n",
       "1        | 1       | WK   | D:12 | D12\n",
       "1        | 1       | F    | D:25 | D25\n",
       "1        | 1       | LB   | J:0  | J0\n",
       "1        | 1       | G    | F:17 | F17\n",
       "1        | 1       | LE   | F:1  | F1\n",
       "1        | 1       | LE   | F:2  | F2\n",
       "... (30981 rows omitted)"
      ]
     },
     "execution_count": 181,
     "metadata": {},
     "output_type": "execute_result"
    }
   ],
   "source": [
    "ft_w_ind = fociTable.with_column('Chip (foci)', [fociTable.column('Foci')[i].replace(':', \"\") for i in range(len(fociTable.column('Foci')))])\n",
    "ft_w_ind"
   ]
  },
  {
   "cell_type": "code",
   "execution_count": 182,
   "metadata": {},
   "outputs": [],
   "source": [
    "index = 1\n",
    "speaker = ft_w_ind.column('Speaker')\n",
    "response = np.array([])\n",
    "for i in range(ft_w_ind.num_rows):\n",
    "    if speaker[i] != speaker[i-1]:\n",
    "        index = 1\n",
    "        response = np.append(response, index)\n",
    "    else:\n",
    "        index += 1\n",
    "        response = np.append(response, index)"
   ]
  },
  {
   "cell_type": "code",
   "execution_count": 183,
   "metadata": {},
   "outputs": [
    {
     "data": {
      "text/html": [
       "<table border=\"1\" class=\"dataframe\">\n",
       "    <thead>\n",
       "        <tr>\n",
       "            <th>Language</th> <th>Speaker</th> <th>Term</th> <th>Foci</th> <th>Chip (foci)</th> <th>foci num</th>\n",
       "        </tr>\n",
       "    </thead>\n",
       "    <tbody>\n",
       "        <tr>\n",
       "            <td>1       </td> <td>1      </td> <td>LF  </td> <td>A:0 </td> <td>A0         </td> <td>1       </td>\n",
       "        </tr>\n",
       "    </tbody>\n",
       "        <tr>\n",
       "            <td>1       </td> <td>1      </td> <td>WK  </td> <td>D:9 </td> <td>D9         </td> <td>2       </td>\n",
       "        </tr>\n",
       "    </tbody>\n",
       "        <tr>\n",
       "            <td>1       </td> <td>1      </td> <td>WK  </td> <td>D:10</td> <td>D10        </td> <td>3       </td>\n",
       "        </tr>\n",
       "    </tbody>\n",
       "        <tr>\n",
       "            <td>1       </td> <td>1      </td> <td>WK  </td> <td>D:11</td> <td>D11        </td> <td>4       </td>\n",
       "        </tr>\n",
       "    </tbody>\n",
       "        <tr>\n",
       "            <td>1       </td> <td>1      </td> <td>WK  </td> <td>D:12</td> <td>D12        </td> <td>5       </td>\n",
       "        </tr>\n",
       "    </tbody>\n",
       "        <tr>\n",
       "            <td>1       </td> <td>1      </td> <td>F   </td> <td>D:25</td> <td>D25        </td> <td>6       </td>\n",
       "        </tr>\n",
       "    </tbody>\n",
       "        <tr>\n",
       "            <td>1       </td> <td>1      </td> <td>LB  </td> <td>J:0 </td> <td>J0         </td> <td>7       </td>\n",
       "        </tr>\n",
       "    </tbody>\n",
       "        <tr>\n",
       "            <td>1       </td> <td>1      </td> <td>G   </td> <td>F:17</td> <td>F17        </td> <td>8       </td>\n",
       "        </tr>\n",
       "    </tbody>\n",
       "        <tr>\n",
       "            <td>1       </td> <td>1      </td> <td>LE  </td> <td>F:1 </td> <td>F1         </td> <td>9       </td>\n",
       "        </tr>\n",
       "    </tbody>\n",
       "        <tr>\n",
       "            <td>1       </td> <td>1      </td> <td>LE  </td> <td>F:2 </td> <td>F2         </td> <td>10      </td>\n",
       "        </tr>\n",
       "    </tbody>\n",
       "</table>\n",
       "<p>... (30981 rows omitted)</p>"
      ],
      "text/plain": [
       "Language | Speaker | Term | Foci | Chip (foci) | foci num\n",
       "1        | 1       | LF   | A:0  | A0          | 1\n",
       "1        | 1       | WK   | D:9  | D9          | 2\n",
       "1        | 1       | WK   | D:10 | D10         | 3\n",
       "1        | 1       | WK   | D:11 | D11         | 4\n",
       "1        | 1       | WK   | D:12 | D12         | 5\n",
       "1        | 1       | F    | D:25 | D25         | 6\n",
       "1        | 1       | LB   | J:0  | J0          | 7\n",
       "1        | 1       | G    | F:17 | F17         | 8\n",
       "1        | 1       | LE   | F:1  | F1          | 9\n",
       "1        | 1       | LE   | F:2  | F2          | 10\n",
       "... (30981 rows omitted)"
      ]
     },
     "execution_count": 183,
     "metadata": {},
     "output_type": "execute_result"
    }
   ],
   "source": [
    "ft_indresp = ft_w_ind.with_column('foci num', response)\n",
    "ft_indresp "
   ]
  },
  {
   "cell_type": "code",
   "execution_count": 184,
   "metadata": {
    "scrolled": true
   },
   "outputs": [
    {
     "data": {
      "text/html": [
       "<table border=\"1\" class=\"dataframe\">\n",
       "    <thead>\n",
       "        <tr>\n",
       "            <th>Chip (foci)</th> <th>Language</th> <th>Speaker</th> <th>Term</th> <th>Foci</th> <th>foci num</th> <th>Coordinate</th> <th>Lightness</th> <th>Hue</th> <th>l</th> <th>a</th> <th>b</th>\n",
       "        </tr>\n",
       "    </thead>\n",
       "    <tbody>\n",
       "        <tr>\n",
       "            <td>A0         </td> <td>1       </td> <td>1      </td> <td>LF  </td> <td>A:0 </td> <td>1       </td> <td>141       </td> <td>A        </td> <td>0   </td> <td>96   </td> <td>-0.06 </td> <td>0.06  </td>\n",
       "        </tr>\n",
       "    </tbody>\n",
       "        <tr>\n",
       "            <td>D9         </td> <td>1       </td> <td>1      </td> <td>WK  </td> <td>D:9 </td> <td>2       </td> <td>326       </td> <td>D        </td> <td>9   </td> <td>71.6 </td> <td>6.22  </td> <td>81.95 </td>\n",
       "        </tr>\n",
       "    </tbody>\n",
       "        <tr>\n",
       "            <td>D10        </td> <td>1       </td> <td>1      </td> <td>WK  </td> <td>D:10</td> <td>3       </td> <td>146       </td> <td>D        </td> <td>10  </td> <td>71.6 </td> <td>-2.3  </td> <td>85.64 </td>\n",
       "        </tr>\n",
       "    </tbody>\n",
       "        <tr>\n",
       "            <td>D11        </td> <td>1       </td> <td>1      </td> <td>WK  </td> <td>D:11</td> <td>4       </td> <td>258       </td> <td>D        </td> <td>11  </td> <td>71.6 </td> <td>-9.51 </td> <td>87.14 </td>\n",
       "        </tr>\n",
       "    </tbody>\n",
       "        <tr>\n",
       "            <td>D12        </td> <td>1       </td> <td>1      </td> <td>WK  </td> <td>D:12</td> <td>5       </td> <td>193       </td> <td>D        </td> <td>12  </td> <td>71.6 </td> <td>-15.98</td> <td>87.62 </td>\n",
       "        </tr>\n",
       "    </tbody>\n",
       "        <tr>\n",
       "            <td>D25        </td> <td>1       </td> <td>1      </td> <td>F   </td> <td>D:25</td> <td>6       </td> <td>49        </td> <td>D        </td> <td>25  </td> <td>71.6 </td> <td>-22.32</td> <td>-14.67</td>\n",
       "        </tr>\n",
       "    </tbody>\n",
       "        <tr>\n",
       "            <td>J0         </td> <td>1       </td> <td>1      </td> <td>LB  </td> <td>J:0 </td> <td>7       </td> <td>89        </td> <td>J        </td> <td>0   </td> <td>15.6 </td> <td>-0.02 </td> <td>0.02  </td>\n",
       "        </tr>\n",
       "    </tbody>\n",
       "        <tr>\n",
       "            <td>F17        </td> <td>1       </td> <td>1      </td> <td>G   </td> <td>F:17</td> <td>8       </td> <td>202       </td> <td>F        </td> <td>17  </td> <td>51.57</td> <td>-63.28</td> <td>28.95 </td>\n",
       "        </tr>\n",
       "    </tbody>\n",
       "        <tr>\n",
       "            <td>F1         </td> <td>1       </td> <td>1      </td> <td>LE  </td> <td>F:1 </td> <td>9       </td> <td>321       </td> <td>F        </td> <td>1   </td> <td>51.57</td> <td>59.36 </td> <td>19.67 </td>\n",
       "        </tr>\n",
       "    </tbody>\n",
       "        <tr>\n",
       "            <td>F2         </td> <td>1       </td> <td>1      </td> <td>LE  </td> <td>F:2 </td> <td>10      </td> <td>298       </td> <td>F        </td> <td>2   </td> <td>51.57</td> <td>58.01 </td> <td>30.52 </td>\n",
       "        </tr>\n",
       "    </tbody>\n",
       "</table>\n",
       "<p>... (30981 rows omitted)</p>"
      ],
      "text/plain": [
       "Chip (foci) | Language | Speaker | Term | Foci | foci num | Coordinate | Lightness | Hue  | l     | a      | b\n",
       "A0          | 1        | 1       | LF   | A:0  | 1        | 141        | A         | 0    | 96    | -0.06  | 0.06\n",
       "D9          | 1        | 1       | WK   | D:9  | 2        | 326        | D         | 9    | 71.6  | 6.22   | 81.95\n",
       "D10         | 1        | 1       | WK   | D:10 | 3        | 146        | D         | 10   | 71.6  | -2.3   | 85.64\n",
       "D11         | 1        | 1       | WK   | D:11 | 4        | 258        | D         | 11   | 71.6  | -9.51  | 87.14\n",
       "D12         | 1        | 1       | WK   | D:12 | 5        | 193        | D         | 12   | 71.6  | -15.98 | 87.62\n",
       "D25         | 1        | 1       | F    | D:25 | 6        | 49         | D         | 25   | 71.6  | -22.32 | -14.67\n",
       "J0          | 1        | 1       | LB   | J:0  | 7        | 89         | J         | 0    | 15.6  | -0.02  | 0.02\n",
       "F17         | 1        | 1       | G    | F:17 | 8        | 202        | F         | 17   | 51.57 | -63.28 | 28.95\n",
       "F1          | 1        | 1       | LE   | F:1  | 9        | 321        | F         | 1    | 51.57 | 59.36  | 19.67\n",
       "F2          | 1        | 1       | LE   | F:2  | 10       | 298        | F         | 2    | 51.57 | 58.01  | 30.52\n",
       "... (30981 rows omitted)"
      ]
     },
     "execution_count": 184,
     "metadata": {},
     "output_type": "execute_result"
    }
   ],
   "source": [
    "#sorted\n",
    "ft_ir = ft_indresp.join('Chip (foci)', \n",
    "                        indexcoordclabtable, \n",
    "                        'index').sort('foci num').sort('Speaker').sort('Language')\n",
    "ft_ir"
   ]
  },
  {
   "cell_type": "markdown",
   "metadata": {},
   "source": [
    "----\n",
    "\n",
    "# Lightness in WCS Data"
   ]
  },
  {
   "cell_type": "code",
   "execution_count": 398,
   "metadata": {},
   "outputs": [],
   "source": [
    "num2let = {let: num for num, let in dict(enumerate(np.unique(ft_ir.column('Lightness'))[::-1], 1)).items()}\n",
    "num_lightness = np.array([])\n",
    "for i in ft_ir.column('Lightness'):\n",
    "    num_lightness = np.append(num_lightness, num2let[i])\n",
    "ft_ir = ft_ir.with_column('numlight', num_lightness)"
   ]
  },
  {
   "cell_type": "markdown",
   "metadata": {},
   "source": [
    "----\n",
    "\n",
    "To work with the data, we first will change `age` column from string to integer."
   ]
  },
  {
   "cell_type": "code",
   "execution_count": 399,
   "metadata": {},
   "outputs": [],
   "source": [
    "int_age = str_to_float(speakerTable.column('Age'))\n",
    "speakerTable = speakerTable.with_column('Age (int)', int_age)"
   ]
  },
  {
   "cell_type": "markdown",
   "metadata": {},
   "source": [
    "Remove unknown/missing terms, denoted as \\*, ?, and ''"
   ]
  },
  {
   "cell_type": "code",
   "execution_count": 188,
   "metadata": {},
   "outputs": [],
   "source": [
    "f = ctit.join('Index', namingTable.where('Term', are.not_contained_in('*''?')))\n",
    "s = f.sort('Speaker').sort('Language')"
   ]
  },
  {
   "cell_type": "code",
   "execution_count": 190,
   "metadata": {},
   "outputs": [],
   "source": [
    "def letter_to_num(item):\n",
    "    return num2let[item[0]]\n",
    "\n",
    "s = s.with_column('num lightness', s.apply(letter_to_num, 'Coordinate'))\n",
    "s_l=s.with_column('l', s.apply(float, 'l'))"
   ]
  },
  {
   "cell_type": "code",
   "execution_count": 191,
   "metadata": {},
   "outputs": [
    {
     "data": {
      "text/html": [
       "<table border=\"1\" class=\"dataframe\">\n",
       "    <thead>\n",
       "        <tr>\n",
       "            <th>Language</th> <th>Speaker</th> <th>l</th> <th>num lightness</th>\n",
       "        </tr>\n",
       "    </thead>\n",
       "    <tbody>\n",
       "        <tr>\n",
       "            <td>1       </td> <td>1      </td> <td>61.7 </td> <td>6            </td>\n",
       "        </tr>\n",
       "    </tbody>\n",
       "        <tr>\n",
       "            <td>1       </td> <td>1      </td> <td>81.35</td> <td>8            </td>\n",
       "        </tr>\n",
       "    </tbody>\n",
       "        <tr>\n",
       "            <td>1       </td> <td>1      </td> <td>51.57</td> <td>5            </td>\n",
       "        </tr>\n",
       "    </tbody>\n",
       "        <tr>\n",
       "            <td>1       </td> <td>1      </td> <td>20.54</td> <td>2            </td>\n",
       "        </tr>\n",
       "    </tbody>\n",
       "        <tr>\n",
       "            <td>1       </td> <td>1      </td> <td>81.35</td> <td>8            </td>\n",
       "        </tr>\n",
       "    </tbody>\n",
       "        <tr>\n",
       "            <td>1       </td> <td>1      </td> <td>81.35</td> <td>8            </td>\n",
       "        </tr>\n",
       "    </tbody>\n",
       "        <tr>\n",
       "            <td>1       </td> <td>1      </td> <td>61.7 </td> <td>6            </td>\n",
       "        </tr>\n",
       "    </tbody>\n",
       "        <tr>\n",
       "            <td>1       </td> <td>1      </td> <td>30.77</td> <td>3            </td>\n",
       "        </tr>\n",
       "    </tbody>\n",
       "        <tr>\n",
       "            <td>1       </td> <td>1      </td> <td>41.22</td> <td>4            </td>\n",
       "        </tr>\n",
       "    </tbody>\n",
       "        <tr>\n",
       "            <td>1       </td> <td>1      </td> <td>20.54</td> <td>2            </td>\n",
       "        </tr>\n",
       "    </tbody>\n",
       "</table>\n",
       "<p>... (839233 rows omitted)</p>"
      ],
      "text/plain": [
       "Language | Speaker | l     | num lightness\n",
       "1        | 1       | 61.7  | 6\n",
       "1        | 1       | 81.35 | 8\n",
       "1        | 1       | 51.57 | 5\n",
       "1        | 1       | 20.54 | 2\n",
       "1        | 1       | 81.35 | 8\n",
       "1        | 1       | 81.35 | 8\n",
       "1        | 1       | 61.7  | 6\n",
       "1        | 1       | 30.77 | 3\n",
       "1        | 1       | 41.22 | 4\n",
       "1        | 1       | 20.54 | 2\n",
       "... (839233 rows omitted)"
      ]
     },
     "execution_count": 191,
     "metadata": {},
     "output_type": "execute_result"
    }
   ],
   "source": [
    "s_l = s_l.select('Language', 'Speaker', 'l', 'num lightness')\n",
    "s_l"
   ]
  },
  {
   "cell_type": "code",
   "execution_count": 25,
   "metadata": {},
   "outputs": [],
   "source": [
    "s_l = s_l.sort('Speaker').sort('Language')#.num_rows#.join(['Language', 'Speaker'], speakerTable)"
   ]
  },
  {
   "cell_type": "code",
   "execution_count": 26,
   "metadata": {},
   "outputs": [
    {
     "data": {
      "text/plain": [
       "[(62, 25), (88, 25), (93, 7), (93, 8)]"
      ]
     },
     "execution_count": 26,
     "metadata": {},
     "output_type": "execute_result"
    }
   ],
   "source": [
    "[i for i in zip(speakerTable.column('Language').tolist(), speakerTable.column('Speaker').tolist()) if i not in list(zip(s_l.column('Language').tolist(), s_l.column('Speaker').tolist()))]"
   ]
  },
  {
   "cell_type": "code",
   "execution_count": null,
   "metadata": {},
   "outputs": [],
   "source": [
    "#1506 #2117 #2192 #2193"
   ]
  },
  {
   "cell_type": "code",
   "execution_count": 401,
   "metadata": {},
   "outputs": [
    {
     "data": {
      "text/plain": [
       "(2616, 5)"
      ]
     },
     "execution_count": 401,
     "metadata": {},
     "output_type": "execute_result"
    }
   ],
   "source": [
    "st_df = speakerTable.to_df()\n",
    "sl_df = s_l.to_df()\n",
    "st_df.drop([1506, 2117]).shape"
   ]
  },
  {
   "cell_type": "code",
   "execution_count": 402,
   "metadata": {},
   "outputs": [],
   "source": [
    "spkr_response_means = Table().from_df(st_df.merge(sl_df))\n",
    "spkr_r_m = spkr_response_means.drop('Language', 'Speaker', 'Age').group('Age (int)', np.mean)\n",
    "spkr_r_m.scatter('Age (int)', 'l mean')"
   ]
  },
  {
   "cell_type": "code",
   "execution_count": 32,
   "metadata": {},
   "outputs": [
    {
     "data": {
      "image/png": "[encoded data removed]",
      "text/plain": [
       "<matplotlib.figure.Figure at 0x1170a2630>"
      ]
     },
     "metadata": {},
     "output_type": "display_data"
    }
   ],
   "source": [
    "spkr_r_m.scatter('Age (int)', 'num lightness mean')"
   ]
  },
  {
   "cell_type": "code",
   "execution_count": 33,
   "metadata": {},
   "outputs": [],
   "source": [
    "lang_spk = speakerTable.group('Language')\n",
    "langs = lang_spk.column(0)\n",
    "speakers = speakerTable.group('Language', np.unique).column(1)"
   ]
  },
  {
   "cell_type": "code",
   "execution_count": 35,
   "metadata": {},
   "outputs": [],
   "source": [
    "lightness = np.array([])\n",
    "lang_and_spkrs = {l: c for l, c in zip(langs, speakers)}\n",
    "for l, c in lang_and_spkrs.items():\n",
    "    lang = ft_ir.where('Language', l)\n",
    "    for i in c:\n",
    "        ith_speaker = lang.where('Speaker', i)\n",
    "        m_lightness = np.mean(ith_speaker.column('numlight'))\n",
    "        lightness = np.append(lightness, m_lightness)"
   ]
  },
  {
   "cell_type": "code",
   "execution_count": 36,
   "metadata": {},
   "outputs": [],
   "source": [
    "speaker_resp_lightness = speakerTable.with_column('mean lightness', lightness)"
   ]
  },
  {
   "cell_type": "code",
   "execution_count": 70,
   "metadata": {},
   "outputs": [
    {
     "data": {
      "text/html": [
       "<table border=\"1\" class=\"dataframe\">\n",
       "    <thead>\n",
       "        <tr>\n",
       "            <th>Language</th> <th>Speaker</th> <th>Age</th> <th>Gender</th> <th>Age (int)</th> <th>l</th> <th>numlight</th>\n",
       "        </tr>\n",
       "    </thead>\n",
       "    <tbody>\n",
       "        <tr>\n",
       "            <td>1       </td> <td>1      </td> <td>90  </td> <td>M     </td> <td>90       </td> <td>96   </td> <td>10      </td>\n",
       "        </tr>\n",
       "    </tbody>\n",
       "        <tr>\n",
       "            <td>1       </td> <td>1      </td> <td>90  </td> <td>M     </td> <td>90       </td> <td>71.6 </td> <td>7       </td>\n",
       "        </tr>\n",
       "    </tbody>\n",
       "        <tr>\n",
       "            <td>1       </td> <td>1      </td> <td>90  </td> <td>M     </td> <td>90       </td> <td>71.6 </td> <td>7       </td>\n",
       "        </tr>\n",
       "    </tbody>\n",
       "        <tr>\n",
       "            <td>1       </td> <td>1      </td> <td>90  </td> <td>M     </td> <td>90       </td> <td>71.6 </td> <td>7       </td>\n",
       "        </tr>\n",
       "    </tbody>\n",
       "        <tr>\n",
       "            <td>1       </td> <td>1      </td> <td>90  </td> <td>M     </td> <td>90       </td> <td>71.6 </td> <td>7       </td>\n",
       "        </tr>\n",
       "    </tbody>\n",
       "        <tr>\n",
       "            <td>1       </td> <td>1      </td> <td>90  </td> <td>M     </td> <td>90       </td> <td>71.6 </td> <td>7       </td>\n",
       "        </tr>\n",
       "    </tbody>\n",
       "        <tr>\n",
       "            <td>1       </td> <td>1      </td> <td>90  </td> <td>M     </td> <td>90       </td> <td>15.6 </td> <td>1       </td>\n",
       "        </tr>\n",
       "    </tbody>\n",
       "        <tr>\n",
       "            <td>1       </td> <td>1      </td> <td>90  </td> <td>M     </td> <td>90       </td> <td>51.57</td> <td>5       </td>\n",
       "        </tr>\n",
       "    </tbody>\n",
       "        <tr>\n",
       "            <td>1       </td> <td>1      </td> <td>90  </td> <td>M     </td> <td>90       </td> <td>51.57</td> <td>5       </td>\n",
       "        </tr>\n",
       "    </tbody>\n",
       "        <tr>\n",
       "            <td>1       </td> <td>1      </td> <td>90  </td> <td>M     </td> <td>90       </td> <td>51.57</td> <td>5       </td>\n",
       "        </tr>\n",
       "    </tbody>\n",
       "</table>\n",
       "<p>... (30981 rows omitted)</p>"
      ],
      "text/plain": [
       "Language | Speaker | Age  | Gender | Age (int) | l     | numlight\n",
       "1        | 1       | 90   | M      | 90        | 96    | 10\n",
       "1        | 1       | 90   | M      | 90        | 71.6  | 7\n",
       "1        | 1       | 90   | M      | 90        | 71.6  | 7\n",
       "1        | 1       | 90   | M      | 90        | 71.6  | 7\n",
       "1        | 1       | 90   | M      | 90        | 71.6  | 7\n",
       "1        | 1       | 90   | M      | 90        | 71.6  | 7\n",
       "1        | 1       | 90   | M      | 90        | 15.6  | 1\n",
       "1        | 1       | 90   | M      | 90        | 51.57 | 5\n",
       "1        | 1       | 90   | M      | 90        | 51.57 | 5\n",
       "1        | 1       | 90   | M      | 90        | 51.57 | 5\n",
       "... (30981 rows omitted)"
      ]
     },
     "execution_count": 70,
     "metadata": {},
     "output_type": "execute_result"
    }
   ],
   "source": [
    "spkr_resp = Table().from_df(st_df.merge(ft_ir.select('Language', 'Speaker', 'l', 'numlight').to_df()))\n",
    "spkr_resp"
   ]
  },
  {
   "cell_type": "code",
   "execution_count": 64,
   "metadata": {},
   "outputs": [],
   "source": [
    "u_terms = namingTable.where('Term', are.not_contained_in('*''?')).group('Language', np.unique)\n",
    "langunique = {}\n",
    "for i in np.arange(110):\n",
    "    langunique[i+1] = u_terms.column('Term unique')[i]\n",
    "#Get number of unique color terms"
   ]
  },
  {
   "cell_type": "code",
   "execution_count": 71,
   "metadata": {},
   "outputs": [],
   "source": [
    "unique = {}\n",
    "for k, v in langunique.items():\n",
    "    if len(v) in unique:\n",
    "        unique[len(v)].append(k)\n",
    "    else:\n",
    "        unique[len(v)] = [k]\n",
    "#get dictionary w number unique color terms (keys) and list of languages w that number of color terms (values)/"
   ]
  },
  {
   "cell_type": "code",
   "execution_count": 72,
   "metadata": {},
   "outputs": [
    {
     "data": {
      "text/html": [
       "<table border=\"1\" class=\"dataframe\">\n",
       "    <thead>\n",
       "        <tr>\n",
       "            <th>Language</th> <th>Speaker</th> <th>Age</th> <th>Gender</th> <th>Age (int)</th> <th>l</th> <th>numlight</th>\n",
       "        </tr>\n",
       "    </thead>\n",
       "    <tbody>\n",
       "        <tr>\n",
       "            <td>1       </td> <td>1      </td> <td>90  </td> <td>M     </td> <td>90       </td> <td>96   </td> <td>10      </td>\n",
       "        </tr>\n",
       "    </tbody>\n",
       "        <tr>\n",
       "            <td>1       </td> <td>1      </td> <td>90  </td> <td>M     </td> <td>90       </td> <td>71.6 </td> <td>7       </td>\n",
       "        </tr>\n",
       "    </tbody>\n",
       "        <tr>\n",
       "            <td>1       </td> <td>1      </td> <td>90  </td> <td>M     </td> <td>90       </td> <td>71.6 </td> <td>7       </td>\n",
       "        </tr>\n",
       "    </tbody>\n",
       "        <tr>\n",
       "            <td>1       </td> <td>1      </td> <td>90  </td> <td>M     </td> <td>90       </td> <td>71.6 </td> <td>7       </td>\n",
       "        </tr>\n",
       "    </tbody>\n",
       "        <tr>\n",
       "            <td>1       </td> <td>1      </td> <td>90  </td> <td>M     </td> <td>90       </td> <td>71.6 </td> <td>7       </td>\n",
       "        </tr>\n",
       "    </tbody>\n",
       "        <tr>\n",
       "            <td>1       </td> <td>1      </td> <td>90  </td> <td>M     </td> <td>90       </td> <td>71.6 </td> <td>7       </td>\n",
       "        </tr>\n",
       "    </tbody>\n",
       "        <tr>\n",
       "            <td>1       </td> <td>1      </td> <td>90  </td> <td>M     </td> <td>90       </td> <td>15.6 </td> <td>1       </td>\n",
       "        </tr>\n",
       "    </tbody>\n",
       "        <tr>\n",
       "            <td>1       </td> <td>1      </td> <td>90  </td> <td>M     </td> <td>90       </td> <td>51.57</td> <td>5       </td>\n",
       "        </tr>\n",
       "    </tbody>\n",
       "        <tr>\n",
       "            <td>1       </td> <td>1      </td> <td>90  </td> <td>M     </td> <td>90       </td> <td>51.57</td> <td>5       </td>\n",
       "        </tr>\n",
       "    </tbody>\n",
       "        <tr>\n",
       "            <td>1       </td> <td>1      </td> <td>90  </td> <td>M     </td> <td>90       </td> <td>51.57</td> <td>5       </td>\n",
       "        </tr>\n",
       "    </tbody>\n",
       "</table>\n",
       "<p>... (30082 rows omitted)</p>"
      ],
      "text/plain": [
       "Language | Speaker | Age  | Gender | Age (int) | l     | numlight\n",
       "1        | 1       | 90   | M      | 90        | 96    | 10\n",
       "1        | 1       | 90   | M      | 90        | 71.6  | 7\n",
       "1        | 1       | 90   | M      | 90        | 71.6  | 7\n",
       "1        | 1       | 90   | M      | 90        | 71.6  | 7\n",
       "1        | 1       | 90   | M      | 90        | 71.6  | 7\n",
       "1        | 1       | 90   | M      | 90        | 71.6  | 7\n",
       "1        | 1       | 90   | M      | 90        | 15.6  | 1\n",
       "1        | 1       | 90   | M      | 90        | 51.57 | 5\n",
       "1        | 1       | 90   | M      | 90        | 51.57 | 5\n",
       "1        | 1       | 90   | M      | 90        | 51.57 | 5\n",
       "... (30082 rows omitted)"
      ]
     },
     "execution_count": 72,
     "metadata": {},
     "output_type": "execute_result"
    }
   ],
   "source": [
    "spkr_resp = spkr_resp.where('Age (int)', are.above(0))\n",
    "spkr_resp"
   ]
  },
  {
   "cell_type": "code",
   "execution_count": 341,
   "metadata": {
    "scrolled": false
   },
   "outputs": [
    {
     "name": "stdout",
     "output_type": "stream",
     "text": [
      "Group of langauges (based on number of unique color terms with greatest correlation coefficient\n",
      "[47, 0.4301818334780736]\n",
      "Group of langauges (based on number of unique color terms with most negative correlation coefficient\n",
      "[62, -0.7839086743868906]\n"
     ]
    }
   ],
   "source": [
    "# Find max and min correlation coefficient--do a linear regression test/test on sloped?\n",
    "from scipy.stats import pearsonr\n",
    "thing = []\n",
    "for i in unique.keys():\n",
    "    terms22 = spkr_resp.where('Language', are.contained_in(unique[i])).group('Age (int)', np.mean)\n",
    "    thing.append([i, pearsonr(terms22.column('Age (int)'), terms22.column('numlight mean'))[0]])\n",
    "print('Group of langauges (based on number of unique color terms with greatest correlation coefficient')\n",
    "print(max(thing, key = lambda x: x[1]))\n",
    "print('Group of langauges (based on number of unique color terms with most negative correlation coefficient')\n",
    "print(min(thing, key = lambda x: x[1]))\n",
    "#0.4301818334780736 -- languages w 47 unique color terms\n",
    "#-0.7839086743868906 -- language 103 has 62 terms unique color terms"
   ]
  },
  {
   "cell_type": "markdown",
   "metadata": {},
   "source": [
    "47 terms is the group of languages with the greatest linear association betwwen age and mean lightness. Is there a possibility that this observation is due to random chance? To check, simulate by bootstrapping 10000 times and calculating the slope, and then caluclate the 95% confidence interval."
   ]
  },
  {
   "cell_type": "code",
   "execution_count": 339,
   "metadata": {},
   "outputs": [
    {
     "name": "stdout",
     "output_type": "stream",
     "text": [
      "Observed slope\n",
      "0.01009519765973121\n",
      "Observed correlation coefficient\n",
      "0.4301818334780736\n"
     ]
    }
   ],
   "source": [
    "terms = spkr_resp.where('Language', are.contained_in(unique[47]))\n",
    "mean_47terms = terms.group('Age (int)', np.mean)\n",
    "print('Observed slope')\n",
    "print(np.polyfit(mean_47terms.column('Age (int)'), mean_47terms.column('numlight mean'), 1)[0])\n",
    "print('Observed correlation coefficient')\n",
    "print(pearsonr(mean_47terms.column('Age (int)'), mean_47terms.column('numlight mean'))[0])"
   ]
  },
  {
   "cell_type": "code",
   "execution_count": 328,
   "metadata": {},
   "outputs": [],
   "source": [
    "predictions_47 = np.array([])\n",
    "r_47 = np.array([])\n",
    "for i in np.arange(10000):\n",
    "    sample = terms.sample()\n",
    "    sample = sample.group('Age (int)', np.mean)\n",
    "    slope = np.polyfit(sample.column('Age (int)'), sample.column('numlight mean'), 1)[0]\n",
    "    predictions_47 = np.append(predictions_47, slope)\n",
    "    r_47 = np.append(r_47, pearsonr(sample.column('Age (int)'), sample.column('numlight mean'))[0])"
   ]
  },
  {
   "cell_type": "code",
   "execution_count": 330,
   "metadata": {},
   "outputs": [
    {
     "name": "stdout",
     "output_type": "stream",
     "text": [
      "Approximate 95% confidence interval for the true slope\n",
      "-0.005356522829081828 0.025221220223478946\n",
      "Approximate 95% confidence interval for the correlation coefficient\n",
      "-0.1321815482186178 0.5423716998488298\n"
     ]
    }
   ],
   "source": [
    "print('Approximate 95% confidence interval for the true slope')\n",
    "print(np.percentile(predictions_47, 2.5), np.percentile(predictions_47, 97.5))\n",
    "print('Approximate 95% confidence interval for the correlation coefficient')\n",
    "print(np.percentile(r_47, 2.5), np.percentile(r_47, 97.5))"
   ]
  },
  {
   "cell_type": "markdown",
   "metadata": {},
   "source": [
    "With our confidence interval constructed from bootstrapped samples, we can see that 0 falls in the interval. So, we fail to reject the null hypothesis that the true slope for "
   ]
  },
  {
   "cell_type": "markdown",
   "metadata": {},
   "source": [
    "See if it is possible that the slope for age and the languages with 62 unique color terms (which is the group with the strongest negative linear association) can possibly be 0."
   ]
  },
  {
   "cell_type": "code",
   "execution_count": 336,
   "metadata": {},
   "outputs": [
    {
     "name": "stdout",
     "output_type": "stream",
     "text": [
      "Observed slope\n",
      "-0.0031703313908556497\n",
      "Observed correlation coefficient\n",
      "-0.1501895052722737\n"
     ]
    }
   ],
   "source": [
    "terms62 = spkr_resp.where('Language', are.contained_in(unique[62]))\n",
    "mean_62 = spkr_resp.group('Age (int)', np.mean)\n",
    "print('Observed slope')\n",
    "print(np.polyfit(mean_62.column('Age (int)'), mean_62.column('numlight mean'), 1)[0])\n",
    "print('Observed correlation coefficient')\n",
    "print(pearsonr(mean_62.column('Age (int)'), mean_62.column('numlight mean'))[0])"
   ]
  },
  {
   "cell_type": "code",
   "execution_count": 322,
   "metadata": {},
   "outputs": [],
   "source": [
    "predictions_62 = np.array([])\n",
    "r_62 = np.array([])\n",
    "for i in np.arange(10000):\n",
    "    sample = terms62.sample()\n",
    "    sample = sample.group('Age (int)', np.mean)\n",
    "    slope = np.polyfit(sample.column('Age (int)'), sample.column('numlight mean'), 1)[0]\n",
    "    r_62 = np.append(r_62, pearsonr(sample.column('Age (int)'), sample.column('numlight mean'))[0])\n",
    "    predictions_62 = np.append(predictions_62, slope)"
   ]
  },
  {
   "cell_type": "code",
   "execution_count": 323,
   "metadata": {},
   "outputs": [
    {
     "name": "stdout",
     "output_type": "stream",
     "text": [
      "Approximate 95% confidence interval for the true slope\n",
      "-0.08753583804616703 -0.01759519210170857\n",
      "Approximate 95% confidence interval for the correlation coefficient\n",
      "-0.8696103498502671 -0.24759370757215174\n"
     ]
    }
   ],
   "source": [
    "print('Approximate 95% confidence interval for the true slope')\n",
    "print(np.percentile(predictions_62, 2.5), np.percentile(predictions_62, 97.5))\n",
    "print('Approximate 95% confidence interval for the correlation coefficient')\n",
    "print(np.percentile(r_62, 2.5), np.percentile(r_62, 97.5))"
   ]
  },
  {
   "cell_type": "markdown",
   "metadata": {},
   "source": [
    "So, based on our null hypothesis that our true slope is 0, we can reject the null hypothesis because a slope of 0 does not fall in our confidence interval."
   ]
  },
  {
   "cell_type": "code",
   "execution_count": 333,
   "metadata": {},
   "outputs": [
    {
     "data": {
      "text/plain": [
       "[103]"
      ]
     },
     "execution_count": 333,
     "metadata": {},
     "output_type": "execute_result"
    }
   ],
   "source": [
    "unique[62] #language 103 is Warlpiri spoken by the Warlpiri people in northern Australia\n",
    "terms62 #do a scatter plot of "
   ]
  },
  {
   "cell_type": "markdown",
   "metadata": {},
   "source": [
    "We'll do the same overall instead of doing it for groups of the same color terms. Is the true slope 0?"
   ]
  },
  {
   "cell_type": "code",
   "execution_count": 387,
   "metadata": {},
   "outputs": [
    {
     "name": "stdout",
     "output_type": "stream",
     "text": [
      "Observed slope:\n",
      "-0.0031703313908556497\n"
     ]
    }
   ],
   "source": [
    "spkr_resp_m = spkr_resp.group('Age (int)', np.mean)\n",
    "print('Observed slope:')\n",
    "print(np.polyfit(spkr_resp_m.column('Age (int)'), spkr_resp_m.column('numlight mean'), 1)[0])"
   ]
  },
  {
   "cell_type": "code",
   "execution_count": 367,
   "metadata": {},
   "outputs": [],
   "source": [
    "overall = np.array([])\n",
    "for i in np.arange(1000):\n",
    "    sample = spkr_resp.sample(10000).group('Age (int)', np.mean)\n",
    "    slope = np.polyfit(sample.column('Age (int)'), sample.column('numlight mean'), 1)[0]\n",
    "    overall = np.append(overall, slope)"
   ]
  },
  {
   "cell_type": "code",
   "execution_count": 384,
   "metadata": {},
   "outputs": [
    {
     "name": "stdout",
     "output_type": "stream",
     "text": [
      "Approximate 95% confidence interval for the true slope\n",
      "-0.015766517565320836 0.009349084364140765\n"
     ]
    }
   ],
   "source": [
    "print('Approximate 95% confidence interval for the true slope')\n",
    "print(np.percentile(overall, 2.5), np.percentile(overall, 97.5))"
   ]
  },
  {
   "cell_type": "code",
   "execution_count": 397,
   "metadata": {},
   "outputs": [
    {
     "data": {
      "image/png": "[encoded data removed]",
      "text/plain": [
       "<matplotlib.figure.Figure at 0x12cb559e8>"
      ]
     },
     "metadata": {},
     "output_type": "display_data"
    }
   ],
   "source": [
    "Table().with_column('Slopes', overall).hist(bins=20)"
   ]
  },
  {
   "cell_type": "markdown",
   "metadata": {},
   "source": [
    "# Visualizing the data<a id='section 2'>\n",
    "\n",
    "Plotting correlation matrix, pairplots, and histograms"
   ]
  },
  {
   "cell_type": "code",
   "execution_count": null,
   "metadata": {},
   "outputs": [],
   "source": []
  },
  {
   "cell_type": "code",
   "execution_count": null,
   "metadata": {},
   "outputs": [],
   "source": []
  },
  {
   "cell_type": "code",
   "execution_count": null,
   "metadata": {},
   "outputs": [],
   "source": []
  },
  {
   "cell_type": "markdown",
   "metadata": {},
   "source": [
    "# Color Space Visualizations<a id='section last'>"
   ]
  },
  {
   "cell_type": "code",
   "execution_count": 275,
   "metadata": {},
   "outputs": [],
   "source": [
    "import matplotlib.pyplot as plt\n",
    "from mpl_toolkits import mplot3d"
   ]
  },
  {
   "cell_type": "code",
   "execution_count": 276,
   "metadata": {},
   "outputs": [],
   "source": [
    "from colormath.color_objects import sRGBColor\n",
    "from colormath.color_conversions import convert_color"
   ]
  },
  {
   "cell_type": "code",
   "execution_count": 282,
   "metadata": {},
   "outputs": [],
   "source": [
    "lz = indexcoordclabtable.column('l')\n",
    "a_x = indexcoordclabtable.column('a')\n",
    "by = indexcoordclabtable.column('b')"
   ]
  },
  {
   "cell_type": "code",
   "execution_count": 283,
   "metadata": {
    "scrolled": true
   },
   "outputs": [],
   "source": [
    "hexcolor = make_array()\n",
    "for i in np.arange(len(a_x)):\n",
    "    lab = LabColor(lz[i], a_x[i], by[i])\n",
    "    rgb = convert_color(lab, sRGBColor)\n",
    "    hexcolor = np.append(hexcolor, rgb.get_rgb_hex())\n",
    "\n",
    "colors = []\n",
    "for i in np.arange(len(a_x)):\n",
    "    lab = LabColor(lz[i], a_x[i], by[i])\n",
    "    rgb = convert_color(lab, sRGBColor)\n",
    "    r = str(rgb.get_value_tuple()[0] * 255)\n",
    "    g = str(rgb.get_value_tuple()[1] * 255)\n",
    "    b = str(rgb.get_value_tuple()[2] * 255)\n",
    "    color = 'rgb(152, 0, 0)'\n",
    "    colors += ['rgb('+ r + ', ' + g +', ' +  b + ')']"
   ]
  },
  {
   "cell_type": "code",
   "execution_count": 284,
   "metadata": {},
   "outputs": [],
   "source": [
    "import plotly\n",
    "import plotly.plotly as py\n",
    "import plotly.graph_objs as go"
   ]
  },
  {
   "cell_type": "code",
   "execution_count": 83,
   "metadata": {
    "scrolled": false
   },
   "outputs": [
    {
     "data": {
      "text/html": [
       "<iframe id=\"igraph\" scrolling=\"no\" style=\"border:none;\" seamless=\"seamless\" src=\"https://plot.ly/~jasonsjiang/68.embed\" height=\"525px\" width=\"700px\"></iframe>"
      ],
      "text/plain": [
       "<plotly.tools.PlotlyDisplay object>"
      ]
     },
     "execution_count": 83,
     "metadata": {},
     "output_type": "execute_result"
    }
   ],
   "source": [
    "all_color = go.Scatter3d(\n",
    "    x=a_x,\n",
    "    y=by,\n",
    "    z=lz,\n",
    "    mode='markers',\n",
    "    marker=dict(\n",
    "        size=8.5,\n",
    "        color=colors,  \n",
    "        opacity=0.8))\n",
    "\n",
    "data = [all_color]\n",
    "layout = go.Layout(\n",
    "    title='Color Space (LAB to RGB)',\n",
    "    scene = dict(\n",
    "        xaxis = dict(title='a*'),\n",
    "        yaxis = dict(title='b*'),\n",
    "        zaxis = dict(title='L*'),),\n",
    "    width=700,\n",
    "    margin = dict(l=0, r=0, b=0, t=0)\n",
    "    )\n",
    "\n",
    "fig = go.Figure(data=data, layout=layout)\n",
    "py.iplot(fig, file='LABColor')"
   ]
  },
  {
   "cell_type": "code",
   "execution_count": 285,
   "metadata": {},
   "outputs": [],
   "source": [
    "%matplotlib inline\n",
    "plt.style.use('fivethirtyeight')\n",
    "from mpl_toolkits.mplot3d import Axes3D\n",
    "from matplotlib.colors import *"
   ]
  },
  {
   "cell_type": "code",
   "execution_count": 286,
   "metadata": {
    "scrolled": true
   },
   "outputs": [],
   "source": [
    "colorzzz = []\n",
    "for i in np.arange(len(a_x)):\n",
    "    lab = LabColor(lz[i], a_x[i], by[i])\n",
    "    rgb = convert_color(lab, sRGBColor)\n",
    "    r = rgb.get_value_tuple()[0]\n",
    "    g = rgb.get_value_tuple()[1]\n",
    "    b = rgb.get_value_tuple()[2]\n",
    "    colorzzz.append((r, g, b))\n",
    "colorzzz\n",
    "\n",
    "a = np.array([colorzzz[0]])\n",
    "for i in np.arange(0, 330):\n",
    "    a = np.vstack([a, colorzzz[i]])\n",
    "numbered = a[1:]"
   ]
  },
  {
   "cell_type": "code",
   "execution_count": 287,
   "metadata": {},
   "outputs": [],
   "source": [
    "#correct the index \n",
    "def find(lst):\n",
    "    index = 0\n",
    "    for i in lst:\n",
    "        if i == '#100be00':\n",
    "            return index\n",
    "        index += 1\n",
    "fix = find(hexcolor)\n",
    "hexcolor[fix] = '#00be00'"
   ]
  },
  {
   "cell_type": "code",
   "execution_count": 288,
   "metadata": {
    "scrolled": false
   },
   "outputs": [
    {
     "data": {
      "image/png": "[encoded data removed]",
      "text/plain": [
       "<matplotlib.figure.Figure at 0x10a570f60>"
      ]
     },
     "metadata": {},
     "output_type": "display_data"
    }
   ],
   "source": [
    "fig = plt.figure(figsize = (10, 7.5))\n",
    "ax = fig.add_subplot(111, projection='3d')\n",
    "\n",
    "for i in np.arange(330):\n",
    "    ax.scatter(a_x[i], by[i], lz[i], color = matplotlib.colors.to_rgba(hexcolor[i]), s=30)\n",
    "plt.show()"
   ]
  },
  {
   "cell_type": "code",
   "execution_count": 289,
   "metadata": {},
   "outputs": [],
   "source": [
    "hexcolor = make_array()\n",
    "for i in np.arange(len(a_x)):\n",
    "    lab = LabColor(lz[i], a_x[i], by[i])\n",
    "    rgb = convert_color(lab, sRGBColor)\n",
    "    hexcolor = np.append(hexcolor, rgb.get_rgb_hex())"
   ]
  },
  {
   "cell_type": "code",
   "execution_count": 290,
   "metadata": {},
   "outputs": [],
   "source": [
    "def plot_colors(colors):\n",
    "    hexcolor = np.array([])\n",
    "    for i in np.arange(len(colors)):\n",
    "        L = colors[i][0]\n",
    "        A = colors[i][1]\n",
    "        B = colors[i][2]\n",
    "        lab = LabColor(L, A, B)\n",
    "        rgb = convert_color(lab, sRGBColor)\n",
    "        hexcolor = np.append(hexcolor, rgb.get_rgb_hex())\n",
    "    fig = plt.figure(figsize = (10, 7.5))\n",
    "    ax = fig.add_subplot(111, projection='3d')\n",
    "    for i in np.arange(330):\n",
    "        ax.scatter(A, B, L, color = matplotlib.colors.to_rgba(hexcolor[i]), s=30)\n",
    "    plt.show()"
   ]
  },
  {
   "cell_type": "code",
   "execution_count": 307,
   "metadata": {},
   "outputs": [],
   "source": [
    "#for plotting\n",
    "from wcsHelper import *\n",
    "munsell_to_chip, chip_to_munsell, chip_to_clab, chip_to_rgb = readChipData('chipnum-info.txt')\n",
    "\n",
    "lg86sp1 = namingData[62][5]\n",
    "grid861 = naming2grid(lg86sp1, chip_to_rgb)\n",
    "colors = grid861\n",
    "tx = [i[1]*100 for i in colors]\n",
    "ty = [i[2]*100 for i in colors]\n",
    "tz = [i[0]*100 for i in colors]"
   ]
  },
  {
   "cell_type": "code",
   "execution_count": 308,
   "metadata": {
    "scrolled": false
   },
   "outputs": [
    {
     "data": {
      "image/png": "[encoded data removed]",
      "text/plain": [
       "<matplotlib.figure.Figure at 0x1094c14e0>"
      ]
     },
     "metadata": {},
     "output_type": "display_data"
    }
   ],
   "source": [
    "hexcolor = np.array([])\n",
    "for i in np.arange(len(colors)):\n",
    "    lab = LabColor(tz[i], tx[i], ty[i])\n",
    "    rgb = convert_color(lab, sRGBColor)\n",
    "    hexcolor = np.append(hexcolor, rgb.get_rgb_hex())\n",
    "for i in range(len(hexcolor)):\n",
    "    if len(hexcolor[i]) > 7:\n",
    "        hexcolor[i] = '#'+str(hexcolor[i][2:])\n",
    "fig = plt.figure(figsize =(10, 7.5))\n",
    "ax = fig.add_subplot(111, projection='3d')\n",
    "for i in np.arange(330):\n",
    "    ax.scatter(tz[i], tx[i], ty[i], color = matplotlib.colors.to_rgba(hexcolor[i]), s=40)\n",
    "plt.show()"
   ]
  },
  {
   "cell_type": "code",
   "execution_count": 45,
   "metadata": {},
   "outputs": [],
   "source": [
    "#for plotly\n",
    "test_colors = []\n",
    "tx = [i[1]*100 for i in colors]\n",
    "ty = [i[2]*100 for i in colors]\n",
    "tz = [i[0]*100 for i in colors]\n",
    "for i in np.arange(len(tx)):\n",
    "    lab = LabColor(tx[i], ty[i], tz[i])\n",
    "    rgb = convert_color(lab, sRGBColor)\n",
    "    r = str(rgb.get_value_tuple()[0] * 255)\n",
    "    g = str(rgb.get_value_tuple()[1] * 255)\n",
    "    b = str(rgb.get_value_tuple()[2] * 255)\n",
    "    test_colors += ['rgb('+ r + ', ' + g +', ' +  b + ')']"
   ]
  }
 ],
 "metadata": {
  "kernelspec": {
   "display_name": "Python 3",
   "language": "python",
   "name": "python3"
  },
  "language_info": {
   "codemirror_mode": {
    "name": "ipython",
    "version": 3
   },
   "file_extension": ".py",
   "mimetype": "text/x-python",
   "name": "python",
   "nbconvert_exporter": "python",
   "pygments_lexer": "ipython3",
   "version": "3.6.3"
  }
 },
 "nbformat": 4,
 "nbformat_minor": 2
}
