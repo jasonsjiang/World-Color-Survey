{
 "cells": [
  {
   "cell_type": "markdown",
   "metadata": {},
   "source": [
    "# Final Project\n",
    "\n",
    "### Shortcuts\n",
    "- [Cleaning the Data](#section 1)<br>\n",
    "- [Visualisations](#section 2)<br>\n",
    "- [Color Space Visualisations](#section last)<br>"
   ]
  },
  {
   "cell_type": "markdown",
   "metadata": {},
   "source": [
    "#### Dependencies"
   ]
  },
  {
   "cell_type": "code",
   "execution_count": 76,
   "metadata": {},
   "outputs": [],
   "source": [
    "import numpy as np\n",
    "from datascience import *\n",
    "import pandas as pd\n",
    "\n",
    "import matplotlib.pyplot as plt\n",
    "import matplotlib\n",
    "#%matplotlib inline\n",
    "#plt.style.use('fivethirtyeight')\n",
    "\n",
    "from bokeh.plotting import figure, output_file, show\n",
    "import seaborn as sns\n",
    "\n",
    "from colormath.color_objects import *\n",
    "from colormath.color_conversions import convert_color"
   ]
  },
  {
   "cell_type": "code",
   "execution_count": 77,
   "metadata": {},
   "outputs": [],
   "source": [
    "#for plotting\n",
    "from wcsHelper import *\n",
    "munsell_to_chip, chip_to_munsell, chip_to_clab, chip_to_rgb = readChipData('chipnum-info.txt')"
   ]
  },
  {
   "cell_type": "markdown",
   "metadata": {},
   "source": [
    "# Data<a id='section 1'>"
   ]
  },
  {
   "cell_type": "code",
   "execution_count": 3,
   "metadata": {},
   "outputs": [],
   "source": [
    "from wcs_helper_functions import *\n",
    "from wcs_table_helper import *\n",
    "\n",
    "coord_to_index, index_to_coord = readChipData('./WCS_data_core/chip.txt')\n",
    "coordToIndexTable, indexToCoordTable = loadChipTables(coord_to_index, index_to_coord)\n",
    "\n",
    "index_to_clab = readClabData('./WCS_data_core/cnum-vhcm-lab-new.txt')\n",
    "clabTable = loadClabTable(index_to_clab)\n",
    "\n",
    "namingData = readNamingData('./WCS_data_core/term.txt')\n",
    "namingTable = loadNamingTable(namingData)\n",
    "\n",
    "fociData = readFociData('./WCS_data_core/foci-exp.txt')\n",
    "fociTable = loadFociTable(fociData)\n",
    "\n",
    "speakerData = readSpeakerData('./WCS_data_core/spkr-lsas.txt')\n",
    "speakerTable = loadSpeakerTable(speakerData)"
   ]
  },
  {
   "cell_type": "code",
   "execution_count": 196,
   "metadata": {},
   "outputs": [
    {
     "data": {
      "text/html": [
       "<table border=\"1\" class=\"dataframe\">\n",
       "    <thead>\n",
       "        <tr>\n",
       "            <th>Index</th> <th>Coordinate</th> <th>l</th> <th>a</th> <th>b</th>\n",
       "        </tr>\n",
       "    </thead>\n",
       "    <tbody>\n",
       "        <tr>\n",
       "            <td>1    </td> <td>E29       </td> <td>61.70</td> <td>-4.52 </td> <td>-39.18</td>\n",
       "        </tr>\n",
       "    </tbody>\n",
       "        <tr>\n",
       "            <td>2    </td> <td>C23       </td> <td>81.35</td> <td>-19.64</td> <td>-4.30 </td>\n",
       "        </tr>\n",
       "    </tbody>\n",
       "        <tr>\n",
       "            <td>3    </td> <td>F4        </td> <td>51.57</td> <td>55.20 </td> <td>68.32 </td>\n",
       "        </tr>\n",
       "    </tbody>\n",
       "        <tr>\n",
       "            <td>4    </td> <td>I36       </td> <td>20.54</td> <td>24.14 </td> <td>-14.33</td>\n",
       "        </tr>\n",
       "    </tbody>\n",
       "        <tr>\n",
       "            <td>5    </td> <td>C20       </td> <td>81.35</td> <td>-33.04</td> <td>4.96  </td>\n",
       "        </tr>\n",
       "    </tbody>\n",
       "        <tr>\n",
       "            <td>6    </td> <td>C6        </td> <td>81.35</td> <td>14.87 </td> <td>30.96 </td>\n",
       "        </tr>\n",
       "    </tbody>\n",
       "        <tr>\n",
       "            <td>7    </td> <td>E15       </td> <td>61.70</td> <td>-46.97</td> <td>64.65 </td>\n",
       "        </tr>\n",
       "    </tbody>\n",
       "        <tr>\n",
       "            <td>8    </td> <td>H40       </td> <td>30.77</td> <td>47.63 </td> <td>5.24  </td>\n",
       "        </tr>\n",
       "    </tbody>\n",
       "        <tr>\n",
       "            <td>9    </td> <td>G6        </td> <td>41.22</td> <td>22.15 </td> <td>41.13 </td>\n",
       "        </tr>\n",
       "    </tbody>\n",
       "        <tr>\n",
       "            <td>10   </td> <td>I30       </td> <td>20.54</td> <td>7.63  </td> <td>-35.92</td>\n",
       "        </tr>\n",
       "    </tbody>\n",
       "</table>\n",
       "<p>... (320 rows omitted)</p>"
      ],
      "text/plain": [
       "Index | Coordinate | l     | a      | b\n",
       "1     | E29        | 61.70 | -4.52  | -39.18\n",
       "2     | C23        | 81.35 | -19.64 | -4.30\n",
       "3     | F4         | 51.57 | 55.20  | 68.32\n",
       "4     | I36        | 20.54 | 24.14  | -14.33\n",
       "5     | C20        | 81.35 | -33.04 | 4.96\n",
       "6     | C6         | 81.35 | 14.87  | 30.96\n",
       "7     | E15        | 61.70 | -46.97 | 64.65\n",
       "8     | H40        | 30.77 | 47.63  | 5.24\n",
       "9     | G6         | 41.22 | 22.15  | 41.13\n",
       "10    | I30        | 20.54 | 7.63   | -35.92\n",
       "... (320 rows omitted)"
      ]
     },
     "execution_count": 196,
     "metadata": {},
     "output_type": "execute_result"
    }
   ],
   "source": [
    "ctit = coordToIndexTable.join('Index', clabTable)\n",
    "ctit"
   ]
  },
  {
   "cell_type": "code",
   "execution_count": 6,
   "metadata": {},
   "outputs": [
    {
     "data": {
      "text/html": [
       "<table border=\"1\" class=\"dataframe\">\n",
       "    <thead>\n",
       "        <tr>\n",
       "            <th>Index</th> <th>l</th> <th>a</th> <th>b</th>\n",
       "        </tr>\n",
       "    </thead>\n",
       "    <tbody>\n",
       "        <tr>\n",
       "            <td>1    </td> <td>61.7 </td> <td>-4.52 </td> <td>-39.18</td>\n",
       "        </tr>\n",
       "    </tbody>\n",
       "        <tr>\n",
       "            <td>2    </td> <td>81.35</td> <td>-19.64</td> <td>-4.3  </td>\n",
       "        </tr>\n",
       "    </tbody>\n",
       "        <tr>\n",
       "            <td>3    </td> <td>51.57</td> <td>55.2  </td> <td>68.32 </td>\n",
       "        </tr>\n",
       "    </tbody>\n",
       "        <tr>\n",
       "            <td>4    </td> <td>20.54</td> <td>24.14 </td> <td>-14.33</td>\n",
       "        </tr>\n",
       "    </tbody>\n",
       "        <tr>\n",
       "            <td>5    </td> <td>81.35</td> <td>-33.04</td> <td>4.96  </td>\n",
       "        </tr>\n",
       "    </tbody>\n",
       "        <tr>\n",
       "            <td>6    </td> <td>81.35</td> <td>14.87 </td> <td>30.96 </td>\n",
       "        </tr>\n",
       "    </tbody>\n",
       "        <tr>\n",
       "            <td>7    </td> <td>61.7 </td> <td>-46.97</td> <td>64.65 </td>\n",
       "        </tr>\n",
       "    </tbody>\n",
       "        <tr>\n",
       "            <td>8    </td> <td>30.77</td> <td>47.63 </td> <td>5.24  </td>\n",
       "        </tr>\n",
       "    </tbody>\n",
       "        <tr>\n",
       "            <td>9    </td> <td>41.22</td> <td>22.15 </td> <td>41.13 </td>\n",
       "        </tr>\n",
       "    </tbody>\n",
       "        <tr>\n",
       "            <td>10   </td> <td>20.54</td> <td>7.63  </td> <td>-35.92</td>\n",
       "        </tr>\n",
       "    </tbody>\n",
       "</table>\n",
       "<p>... (320 rows omitted)</p>"
      ],
      "text/plain": [
       "Index | l     | a      | b\n",
       "1     | 61.7  | -4.52  | -39.18\n",
       "2     | 81.35 | -19.64 | -4.3\n",
       "3     | 51.57 | 55.2   | 68.32\n",
       "4     | 20.54 | 24.14  | -14.33\n",
       "5     | 81.35 | -33.04 | 4.96\n",
       "6     | 81.35 | 14.87  | 30.96\n",
       "7     | 61.7  | -46.97 | 64.65\n",
       "8     | 30.77 | 47.63  | 5.24\n",
       "9     | 41.22 | 22.15  | 41.13\n",
       "10    | 20.54 | 7.63   | -35.92\n",
       "... (320 rows omitted)"
      ]
     },
     "execution_count": 6,
     "metadata": {},
     "output_type": "execute_result"
    }
   ],
   "source": [
    "def str_to_float(arr):\n",
    "    new_arr = np.array([])\n",
    "    for i in arr:\n",
    "        new_arr = np.append(new_arr, float(i))\n",
    "    return new_arr\n",
    "\n",
    "clabsort = Table().with_column('Index', np.arange(1, 331))\n",
    "for i in np.arange(1, 4):\n",
    "    label = ['l', 'l', 'a', 'b']\n",
    "    flt = str_to_float(clabTable.column(i))\n",
    "    clabsort = clabsort.with_column(label[i], flt)\n",
    "clabsort"
   ]
  },
  {
   "cell_type": "code",
   "execution_count": 259,
   "metadata": {},
   "outputs": [
    {
     "data": {
      "text/html": [
       "<table border=\"1\" class=\"dataframe\">\n",
       "    <thead>\n",
       "        <tr>\n",
       "            <th>Coordinate</th> <th>Lightness</th> <th>Hue</th> <th>index</th> <th>l</th> <th>a</th> <th>b</th>\n",
       "        </tr>\n",
       "    </thead>\n",
       "    <tbody>\n",
       "        <tr>\n",
       "            <td>1         </td> <td>E        </td> <td>29  </td> <td>E29  </td> <td>61.7 </td> <td>-4.52 </td> <td>-39.18</td>\n",
       "        </tr>\n",
       "    </tbody>\n",
       "        <tr>\n",
       "            <td>2         </td> <td>C        </td> <td>23  </td> <td>C23  </td> <td>81.35</td> <td>-19.64</td> <td>-4.3  </td>\n",
       "        </tr>\n",
       "    </tbody>\n",
       "        <tr>\n",
       "            <td>3         </td> <td>F        </td> <td>4   </td> <td>F4   </td> <td>51.57</td> <td>55.2  </td> <td>68.32 </td>\n",
       "        </tr>\n",
       "    </tbody>\n",
       "        <tr>\n",
       "            <td>4         </td> <td>I        </td> <td>36  </td> <td>I36  </td> <td>20.54</td> <td>24.14 </td> <td>-14.33</td>\n",
       "        </tr>\n",
       "    </tbody>\n",
       "        <tr>\n",
       "            <td>5         </td> <td>C        </td> <td>20  </td> <td>C20  </td> <td>81.35</td> <td>-33.04</td> <td>4.96  </td>\n",
       "        </tr>\n",
       "    </tbody>\n",
       "        <tr>\n",
       "            <td>6         </td> <td>C        </td> <td>6   </td> <td>C6   </td> <td>81.35</td> <td>14.87 </td> <td>30.96 </td>\n",
       "        </tr>\n",
       "    </tbody>\n",
       "        <tr>\n",
       "            <td>7         </td> <td>E        </td> <td>15  </td> <td>E15  </td> <td>61.7 </td> <td>-46.97</td> <td>64.65 </td>\n",
       "        </tr>\n",
       "    </tbody>\n",
       "        <tr>\n",
       "            <td>8         </td> <td>H        </td> <td>40  </td> <td>H40  </td> <td>30.77</td> <td>47.63 </td> <td>5.24  </td>\n",
       "        </tr>\n",
       "    </tbody>\n",
       "        <tr>\n",
       "            <td>9         </td> <td>G        </td> <td>6   </td> <td>G6   </td> <td>41.22</td> <td>22.15 </td> <td>41.13 </td>\n",
       "        </tr>\n",
       "    </tbody>\n",
       "        <tr>\n",
       "            <td>10        </td> <td>I        </td> <td>30  </td> <td>I30  </td> <td>20.54</td> <td>7.63  </td> <td>-35.92</td>\n",
       "        </tr>\n",
       "    </tbody>\n",
       "</table>\n",
       "<p>... (320 rows omitted)</p>"
      ],
      "text/plain": [
       "Coordinate | Lightness | Hue  | index | l     | a      | b\n",
       "1          | E         | 29   | E29   | 61.7  | -4.52  | -39.18\n",
       "2          | C         | 23   | C23   | 81.35 | -19.64 | -4.3\n",
       "3          | F         | 4    | F4    | 51.57 | 55.2   | 68.32\n",
       "4          | I         | 36   | I36   | 20.54 | 24.14  | -14.33\n",
       "5          | C         | 20   | C20   | 81.35 | -33.04 | 4.96\n",
       "6          | C         | 6    | C6    | 81.35 | 14.87  | 30.96\n",
       "7          | E         | 15   | E15   | 61.7  | -46.97 | 64.65\n",
       "8          | H         | 40   | H40   | 30.77 | 47.63  | 5.24\n",
       "9          | G         | 6    | G6    | 41.22 | 22.15  | 41.13\n",
       "10         | I         | 30   | I30   | 20.54 | 7.63   | -35.92\n",
       "... (320 rows omitted)"
      ]
     },
     "execution_count": 259,
     "metadata": {},
     "output_type": "execute_result"
    }
   ],
   "source": [
    "indexcoordtable = indexToCoordTable.join('Coordinate', ctit, 'Index').relabel(3, 'index').drop(4, 5, 6)\n",
    "indexcoordclabtable = indexcoordtable.join('Coordinate', clabsort, 'Index')\n",
    "indexcoordclabtable"
   ]
  },
  {
   "cell_type": "code",
   "execution_count": 260,
   "metadata": {},
   "outputs": [
    {
     "data": {
      "text/html": [
       "<table border=\"1\" class=\"dataframe\">\n",
       "    <thead>\n",
       "        <tr>\n",
       "            <th>Language</th> <th>Speaker</th> <th>Term</th> <th>Foci</th> <th>Chip (foci)</th>\n",
       "        </tr>\n",
       "    </thead>\n",
       "    <tbody>\n",
       "        <tr>\n",
       "            <td>1       </td> <td>1      </td> <td>LF  </td> <td>A:0 </td> <td>A0         </td>\n",
       "        </tr>\n",
       "    </tbody>\n",
       "        <tr>\n",
       "            <td>1       </td> <td>1      </td> <td>WK  </td> <td>D:9 </td> <td>D9         </td>\n",
       "        </tr>\n",
       "    </tbody>\n",
       "        <tr>\n",
       "            <td>1       </td> <td>1      </td> <td>WK  </td> <td>D:10</td> <td>D10        </td>\n",
       "        </tr>\n",
       "    </tbody>\n",
       "        <tr>\n",
       "            <td>1       </td> <td>1      </td> <td>WK  </td> <td>D:11</td> <td>D11        </td>\n",
       "        </tr>\n",
       "    </tbody>\n",
       "        <tr>\n",
       "            <td>1       </td> <td>1      </td> <td>WK  </td> <td>D:12</td> <td>D12        </td>\n",
       "        </tr>\n",
       "    </tbody>\n",
       "        <tr>\n",
       "            <td>1       </td> <td>1      </td> <td>F   </td> <td>D:25</td> <td>D25        </td>\n",
       "        </tr>\n",
       "    </tbody>\n",
       "        <tr>\n",
       "            <td>1       </td> <td>1      </td> <td>LB  </td> <td>J:0 </td> <td>J0         </td>\n",
       "        </tr>\n",
       "    </tbody>\n",
       "        <tr>\n",
       "            <td>1       </td> <td>1      </td> <td>G   </td> <td>F:17</td> <td>F17        </td>\n",
       "        </tr>\n",
       "    </tbody>\n",
       "        <tr>\n",
       "            <td>1       </td> <td>1      </td> <td>LE  </td> <td>F:1 </td> <td>F1         </td>\n",
       "        </tr>\n",
       "    </tbody>\n",
       "        <tr>\n",
       "            <td>1       </td> <td>1      </td> <td>LE  </td> <td>F:2 </td> <td>F2         </td>\n",
       "        </tr>\n",
       "    </tbody>\n",
       "</table>\n",
       "<p>... (30981 rows omitted)</p>"
      ],
      "text/plain": [
       "Language | Speaker | Term | Foci | Chip (foci)\n",
       "1        | 1       | LF   | A:0  | A0\n",
       "1        | 1       | WK   | D:9  | D9\n",
       "1        | 1       | WK   | D:10 | D10\n",
       "1        | 1       | WK   | D:11 | D11\n",
       "1        | 1       | WK   | D:12 | D12\n",
       "1        | 1       | F    | D:25 | D25\n",
       "1        | 1       | LB   | J:0  | J0\n",
       "1        | 1       | G    | F:17 | F17\n",
       "1        | 1       | LE   | F:1  | F1\n",
       "1        | 1       | LE   | F:2  | F2\n",
       "... (30981 rows omitted)"
      ]
     },
     "execution_count": 260,
     "metadata": {},
     "output_type": "execute_result"
    }
   ],
   "source": [
    "ft_w_ind = fociTable.with_column('Chip (foci)', [fociTable.column('Foci')[i].replace(':', \"\") for i in range(len(fociTable.column('Foci')))])\n",
    "ft_w_ind"
   ]
  },
  {
   "cell_type": "code",
   "execution_count": 261,
   "metadata": {},
   "outputs": [],
   "source": [
    "index = 1\n",
    "speaker = ft_w_ind.column('Speaker')\n",
    "response = np.array([])\n",
    "for i in range(ft_w_ind.num_rows):\n",
    "    if speaker[i] != speaker[i-1]:\n",
    "        index = 1\n",
    "        response = np.append(response, index)\n",
    "    else:\n",
    "        index += 1\n",
    "        response = np.append(response, index)"
   ]
  },
  {
   "cell_type": "code",
   "execution_count": 262,
   "metadata": {},
   "outputs": [
    {
     "data": {
      "text/html": [
       "<table border=\"1\" class=\"dataframe\">\n",
       "    <thead>\n",
       "        <tr>\n",
       "            <th>Language</th> <th>Speaker</th> <th>Term</th> <th>Foci</th> <th>Chip (foci)</th> <th>foci num</th>\n",
       "        </tr>\n",
       "    </thead>\n",
       "    <tbody>\n",
       "        <tr>\n",
       "            <td>1       </td> <td>1      </td> <td>LF  </td> <td>A:0 </td> <td>A0         </td> <td>1       </td>\n",
       "        </tr>\n",
       "    </tbody>\n",
       "        <tr>\n",
       "            <td>1       </td> <td>1      </td> <td>WK  </td> <td>D:9 </td> <td>D9         </td> <td>2       </td>\n",
       "        </tr>\n",
       "    </tbody>\n",
       "        <tr>\n",
       "            <td>1       </td> <td>1      </td> <td>WK  </td> <td>D:10</td> <td>D10        </td> <td>3       </td>\n",
       "        </tr>\n",
       "    </tbody>\n",
       "        <tr>\n",
       "            <td>1       </td> <td>1      </td> <td>WK  </td> <td>D:11</td> <td>D11        </td> <td>4       </td>\n",
       "        </tr>\n",
       "    </tbody>\n",
       "        <tr>\n",
       "            <td>1       </td> <td>1      </td> <td>WK  </td> <td>D:12</td> <td>D12        </td> <td>5       </td>\n",
       "        </tr>\n",
       "    </tbody>\n",
       "        <tr>\n",
       "            <td>1       </td> <td>1      </td> <td>F   </td> <td>D:25</td> <td>D25        </td> <td>6       </td>\n",
       "        </tr>\n",
       "    </tbody>\n",
       "        <tr>\n",
       "            <td>1       </td> <td>1      </td> <td>LB  </td> <td>J:0 </td> <td>J0         </td> <td>7       </td>\n",
       "        </tr>\n",
       "    </tbody>\n",
       "        <tr>\n",
       "            <td>1       </td> <td>1      </td> <td>G   </td> <td>F:17</td> <td>F17        </td> <td>8       </td>\n",
       "        </tr>\n",
       "    </tbody>\n",
       "        <tr>\n",
       "            <td>1       </td> <td>1      </td> <td>LE  </td> <td>F:1 </td> <td>F1         </td> <td>9       </td>\n",
       "        </tr>\n",
       "    </tbody>\n",
       "        <tr>\n",
       "            <td>1       </td> <td>1      </td> <td>LE  </td> <td>F:2 </td> <td>F2         </td> <td>10      </td>\n",
       "        </tr>\n",
       "    </tbody>\n",
       "</table>\n",
       "<p>... (30981 rows omitted)</p>"
      ],
      "text/plain": [
       "Language | Speaker | Term | Foci | Chip (foci) | foci num\n",
       "1        | 1       | LF   | A:0  | A0          | 1\n",
       "1        | 1       | WK   | D:9  | D9          | 2\n",
       "1        | 1       | WK   | D:10 | D10         | 3\n",
       "1        | 1       | WK   | D:11 | D11         | 4\n",
       "1        | 1       | WK   | D:12 | D12         | 5\n",
       "1        | 1       | F    | D:25 | D25         | 6\n",
       "1        | 1       | LB   | J:0  | J0          | 7\n",
       "1        | 1       | G    | F:17 | F17         | 8\n",
       "1        | 1       | LE   | F:1  | F1          | 9\n",
       "1        | 1       | LE   | F:2  | F2          | 10\n",
       "... (30981 rows omitted)"
      ]
     },
     "execution_count": 262,
     "metadata": {},
     "output_type": "execute_result"
    }
   ],
   "source": [
    "ft_indresp = ft_w_ind.with_column('foci num', response)\n",
    "ft_indresp "
   ]
  },
  {
   "cell_type": "code",
   "execution_count": 263,
   "metadata": {},
   "outputs": [
    {
     "data": {
      "text/plain": [
       "array([ 2,  6,  8, 11, 63, 69, 97])"
      ]
     },
     "execution_count": 263,
     "metadata": {},
     "output_type": "execute_result"
    }
   ],
   "source": [
    "df = pd.read_table('lang.txt', delim_whitespace=True, names=('language', 'country', 'p1', '2', '3', '4', '5','fill'))\n",
    "lang_papua = df[df['country']=='Papua'].index.get_values()\n",
    "lang_papua"
   ]
  },
  {
   "cell_type": "code",
   "execution_count": 264,
   "metadata": {
    "scrolled": true
   },
   "outputs": [
    {
     "data": {
      "text/html": [
       "<table border=\"1\" class=\"dataframe\">\n",
       "    <thead>\n",
       "        <tr>\n",
       "            <th>Chip (foci)</th> <th>Language</th> <th>Speaker</th> <th>Term</th> <th>Foci</th> <th>foci num</th> <th>Coordinate</th> <th>Lightness</th> <th>Hue</th> <th>l</th> <th>a</th> <th>b</th>\n",
       "        </tr>\n",
       "    </thead>\n",
       "    <tbody>\n",
       "        <tr>\n",
       "            <td>A0         </td> <td>1       </td> <td>1      </td> <td>LF  </td> <td>A:0 </td> <td>1       </td> <td>141       </td> <td>A        </td> <td>0   </td> <td>96   </td> <td>-0.06 </td> <td>0.06  </td>\n",
       "        </tr>\n",
       "    </tbody>\n",
       "        <tr>\n",
       "            <td>D9         </td> <td>1       </td> <td>1      </td> <td>WK  </td> <td>D:9 </td> <td>2       </td> <td>326       </td> <td>D        </td> <td>9   </td> <td>71.6 </td> <td>6.22  </td> <td>81.95 </td>\n",
       "        </tr>\n",
       "    </tbody>\n",
       "        <tr>\n",
       "            <td>D10        </td> <td>1       </td> <td>1      </td> <td>WK  </td> <td>D:10</td> <td>3       </td> <td>146       </td> <td>D        </td> <td>10  </td> <td>71.6 </td> <td>-2.3  </td> <td>85.64 </td>\n",
       "        </tr>\n",
       "    </tbody>\n",
       "        <tr>\n",
       "            <td>D11        </td> <td>1       </td> <td>1      </td> <td>WK  </td> <td>D:11</td> <td>4       </td> <td>258       </td> <td>D        </td> <td>11  </td> <td>71.6 </td> <td>-9.51 </td> <td>87.14 </td>\n",
       "        </tr>\n",
       "    </tbody>\n",
       "        <tr>\n",
       "            <td>D12        </td> <td>1       </td> <td>1      </td> <td>WK  </td> <td>D:12</td> <td>5       </td> <td>193       </td> <td>D        </td> <td>12  </td> <td>71.6 </td> <td>-15.98</td> <td>87.62 </td>\n",
       "        </tr>\n",
       "    </tbody>\n",
       "        <tr>\n",
       "            <td>D25        </td> <td>1       </td> <td>1      </td> <td>F   </td> <td>D:25</td> <td>6       </td> <td>49        </td> <td>D        </td> <td>25  </td> <td>71.6 </td> <td>-22.32</td> <td>-14.67</td>\n",
       "        </tr>\n",
       "    </tbody>\n",
       "        <tr>\n",
       "            <td>J0         </td> <td>1       </td> <td>1      </td> <td>LB  </td> <td>J:0 </td> <td>7       </td> <td>89        </td> <td>J        </td> <td>0   </td> <td>15.6 </td> <td>-0.02 </td> <td>0.02  </td>\n",
       "        </tr>\n",
       "    </tbody>\n",
       "        <tr>\n",
       "            <td>F17        </td> <td>1       </td> <td>1      </td> <td>G   </td> <td>F:17</td> <td>8       </td> <td>202       </td> <td>F        </td> <td>17  </td> <td>51.57</td> <td>-63.28</td> <td>28.95 </td>\n",
       "        </tr>\n",
       "    </tbody>\n",
       "        <tr>\n",
       "            <td>F1         </td> <td>1       </td> <td>1      </td> <td>LE  </td> <td>F:1 </td> <td>9       </td> <td>321       </td> <td>F        </td> <td>1   </td> <td>51.57</td> <td>59.36 </td> <td>19.67 </td>\n",
       "        </tr>\n",
       "    </tbody>\n",
       "        <tr>\n",
       "            <td>F2         </td> <td>1       </td> <td>1      </td> <td>LE  </td> <td>F:2 </td> <td>10      </td> <td>298       </td> <td>F        </td> <td>2   </td> <td>51.57</td> <td>58.01 </td> <td>30.52 </td>\n",
       "        </tr>\n",
       "    </tbody>\n",
       "</table>\n",
       "<p>... (30981 rows omitted)</p>"
      ],
      "text/plain": [
       "Chip (foci) | Language | Speaker | Term | Foci | foci num | Coordinate | Lightness | Hue  | l     | a      | b\n",
       "A0          | 1        | 1       | LF   | A:0  | 1        | 141        | A         | 0    | 96    | -0.06  | 0.06\n",
       "D9          | 1        | 1       | WK   | D:9  | 2        | 326        | D         | 9    | 71.6  | 6.22   | 81.95\n",
       "D10         | 1        | 1       | WK   | D:10 | 3        | 146        | D         | 10   | 71.6  | -2.3   | 85.64\n",
       "D11         | 1        | 1       | WK   | D:11 | 4        | 258        | D         | 11   | 71.6  | -9.51  | 87.14\n",
       "D12         | 1        | 1       | WK   | D:12 | 5        | 193        | D         | 12   | 71.6  | -15.98 | 87.62\n",
       "D25         | 1        | 1       | F    | D:25 | 6        | 49         | D         | 25   | 71.6  | -22.32 | -14.67\n",
       "J0          | 1        | 1       | LB   | J:0  | 7        | 89         | J         | 0    | 15.6  | -0.02  | 0.02\n",
       "F17         | 1        | 1       | G    | F:17 | 8        | 202        | F         | 17   | 51.57 | -63.28 | 28.95\n",
       "F1          | 1        | 1       | LE   | F:1  | 9        | 321        | F         | 1    | 51.57 | 59.36  | 19.67\n",
       "F2          | 1        | 1       | LE   | F:2  | 10       | 298        | F         | 2    | 51.57 | 58.01  | 30.52\n",
       "... (30981 rows omitted)"
      ]
     },
     "execution_count": 264,
     "metadata": {},
     "output_type": "execute_result"
    }
   ],
   "source": [
    "#sorted\n",
    "ft_ir = ft_indresp.join('Chip (foci)', indexcoordclabtable\n",
    "                        , 'index').sort('foci num').sort('Speaker').sort('Language')\n",
    "ft_ir"
   ]
  },
  {
   "cell_type": "code",
   "execution_count": 266,
   "metadata": {
    "scrolled": false
   },
   "outputs": [
    {
     "data": {
      "text/html": [
       "<table border=\"1\" class=\"dataframe\">\n",
       "    <thead>\n",
       "        <tr>\n",
       "            <th>Chip (foci)</th> <th>Language</th> <th>Speaker</th> <th>Term</th> <th>Foci</th> <th>foci num</th> <th>Coordinate</th> <th>Lightness</th> <th>Hue</th> <th>l</th> <th>a</th> <th>b</th>\n",
       "        </tr>\n",
       "    </thead>\n",
       "    <tbody>\n",
       "        <tr>\n",
       "            <td>B12        </td> <td>2       </td> <td>1      </td> <td>AA  </td> <td>B:12</td> <td>1       </td> <td>106       </td> <td>B        </td> <td>12  </td> <td>91.08</td> <td>-12.17</td> <td>45.9  </td>\n",
       "        </tr>\n",
       "    </tbody>\n",
       "        <tr>\n",
       "            <td>A0         </td> <td>2       </td> <td>1      </td> <td>EP  </td> <td>A:0 </td> <td>2       </td> <td>141       </td> <td>A        </td> <td>0   </td> <td>96   </td> <td>-0.06 </td> <td>0.06  </td>\n",
       "        </tr>\n",
       "    </tbody>\n",
       "        <tr>\n",
       "            <td>F28        </td> <td>2       </td> <td>1      </td> <td>IT  </td> <td>F:28</td> <td>3       </td> <td>34        </td> <td>F        </td> <td>28  </td> <td>51.57</td> <td>-11.88</td> <td>-38.56</td>\n",
       "        </tr>\n",
       "    </tbody>\n",
       "        <tr>\n",
       "            <td>F39        </td> <td>2       </td> <td>1      </td> <td>NR  </td> <td>F:39</td> <td>4       </td> <td>65        </td> <td>F        </td> <td>39  </td> <td>51.57</td> <td>59.69 </td> <td>1.53  </td>\n",
       "        </tr>\n",
       "    </tbody>\n",
       "        <tr>\n",
       "            <td>J0         </td> <td>2       </td> <td>1      </td> <td>TK  </td> <td>J:0 </td> <td>5       </td> <td>89        </td> <td>J        </td> <td>0   </td> <td>15.6 </td> <td>-0.02 </td> <td>0.02  </td>\n",
       "        </tr>\n",
       "    </tbody>\n",
       "        <tr>\n",
       "            <td>E19        </td> <td>2       </td> <td>1      </td> <td>YN  </td> <td>E:19</td> <td>6       </td> <td>310       </td> <td>E        </td> <td>19  </td> <td>61.7 </td> <td>-52.09</td> <td>10.63 </td>\n",
       "        </tr>\n",
       "    </tbody>\n",
       "        <tr>\n",
       "            <td>C11        </td> <td>2       </td> <td>2      </td> <td>AA  </td> <td>C:11</td> <td>1       </td> <td>12        </td> <td>C        </td> <td>11  </td> <td>81.35</td> <td>-10.94</td> <td>87.9  </td>\n",
       "        </tr>\n",
       "    </tbody>\n",
       "        <tr>\n",
       "            <td>B6         </td> <td>2       </td> <td>2      </td> <td>AT  </td> <td>B:6 </td> <td>2       </td> <td>290       </td> <td>B        </td> <td>6   </td> <td>91.08</td> <td>4.3   </td> <td>10.08 </td>\n",
       "        </tr>\n",
       "    </tbody>\n",
       "        <tr>\n",
       "            <td>A0         </td> <td>2       </td> <td>2      </td> <td>EP  </td> <td>A:0 </td> <td>3       </td> <td>141       </td> <td>A        </td> <td>0   </td> <td>96   </td> <td>-0.06 </td> <td>0.06  </td>\n",
       "        </tr>\n",
       "    </tbody>\n",
       "        <tr>\n",
       "            <td>F29        </td> <td>2       </td> <td>2      </td> <td>IT  </td> <td>F:29</td> <td>4       </td> <td>164       </td> <td>F        </td> <td>29  </td> <td>51.57</td> <td>-3.41 </td> <td>-48.08</td>\n",
       "        </tr>\n",
       "    </tbody>\n",
       "</table>\n",
       "<p>... (2104 rows omitted)</p>"
      ],
      "text/plain": [
       "Chip (foci) | Language | Speaker | Term | Foci | foci num | Coordinate | Lightness | Hue  | l     | a      | b\n",
       "B12         | 2        | 1       | AA   | B:12 | 1        | 106        | B         | 12   | 91.08 | -12.17 | 45.9\n",
       "A0          | 2        | 1       | EP   | A:0  | 2        | 141        | A         | 0    | 96    | -0.06  | 0.06\n",
       "F28         | 2        | 1       | IT   | F:28 | 3        | 34         | F         | 28   | 51.57 | -11.88 | -38.56\n",
       "F39         | 2        | 1       | NR   | F:39 | 4        | 65         | F         | 39   | 51.57 | 59.69  | 1.53\n",
       "J0          | 2        | 1       | TK   | J:0  | 5        | 89         | J         | 0    | 15.6  | -0.02  | 0.02\n",
       "E19         | 2        | 1       | YN   | E:19 | 6        | 310        | E         | 19   | 61.7  | -52.09 | 10.63\n",
       "C11         | 2        | 2       | AA   | C:11 | 1        | 12         | C         | 11   | 81.35 | -10.94 | 87.9\n",
       "B6          | 2        | 2       | AT   | B:6  | 2        | 290        | B         | 6    | 91.08 | 4.3    | 10.08\n",
       "A0          | 2        | 2       | EP   | A:0  | 3        | 141        | A         | 0    | 96    | -0.06  | 0.06\n",
       "F29         | 2        | 2       | IT   | F:29 | 4        | 164        | F         | 29   | 51.57 | -3.41  | -48.08\n",
       "... (2104 rows omitted)"
      ]
     },
     "execution_count": 266,
     "metadata": {},
     "output_type": "execute_result"
    }
   ],
   "source": [
    "lang8_61 = ft_ir.where('Language', are.contained_in(lang_papua))\n",
    "lang8_61"
   ]
  },
  {
   "cell_type": "markdown",
   "metadata": {},
   "source": [
    "----\n",
    "\n",
    "# Lightness in WCS Data"
   ]
  },
  {
   "cell_type": "code",
   "execution_count": 267,
   "metadata": {},
   "outputs": [],
   "source": [
    "#change lightness from letters to numbers\n",
    "letters = lang8_61.column('Lightness')\n",
    "num2let = {let: num for num, let in dict(enumerate(np.unique(letters), 1)).items()}\n",
    "num_lightness = np.array([])\n",
    "for i in letters:\n",
    "    num_lightness = np.append(num_lightness, num2let[i])\n",
    "lang8_61 = lang8_61.with_column('lightness (num)', num_lightness).move_to_end('Lightness').move_to_end('Hue').move_to_end('Chip (foci)')\n"
   ]
  },
  {
   "cell_type": "code",
   "execution_count": 268,
   "metadata": {},
   "outputs": [
    {
     "data": {
      "image/png": "[encoded data removed]",
      "text/plain": [
       "<matplotlib.figure.Figure at 0x1102731d0>"
      ]
     },
     "metadata": {},
     "output_type": "display_data"
    }
   ],
   "source": [
    "num2let = {let: num for num, let in dict(enumerate(np.unique(ft_ir.column('Lightness')), 1)).items()}\n",
    "num_lightness = np.array([])\n",
    "for i in ft_ir.column('Lightness'):\n",
    "    num_lightness = np.append(num_lightness, num2let[i])\n",
    "ft_ir.with_column('numlight', num_lightness).hist('numlight')"
   ]
  },
  {
   "cell_type": "markdown",
   "metadata": {},
   "source": [
    "----\n",
    "\n",
    "Change age from string to integer"
   ]
  },
  {
   "cell_type": "code",
   "execution_count": 269,
   "metadata": {},
   "outputs": [],
   "source": [
    "int_age = str_to_float(speakerTable.column('Age'))\n",
    "speakerTable = speakerTable.with_column('Age (int)', int_age)"
   ]
  },
  {
   "cell_type": "code",
   "execution_count": 270,
   "metadata": {},
   "outputs": [
    {
     "data": {
      "text/html": [
       "<table border=\"1\" class=\"dataframe\">\n",
       "    <thead>\n",
       "        <tr>\n",
       "            <th>Language</th> <th>Speaker</th> <th>Index</th> <th>Term</th>\n",
       "        </tr>\n",
       "    </thead>\n",
       "    <tbody>\n",
       "        <tr>\n",
       "            <td>8       </td> <td>1      </td> <td>1    </td> <td>A   </td>\n",
       "        </tr>\n",
       "    </tbody>\n",
       "        <tr>\n",
       "            <td>8       </td> <td>1      </td> <td>2    </td> <td>A   </td>\n",
       "        </tr>\n",
       "    </tbody>\n",
       "        <tr>\n",
       "            <td>8       </td> <td>1      </td> <td>3    </td> <td>AM  </td>\n",
       "        </tr>\n",
       "    </tbody>\n",
       "        <tr>\n",
       "            <td>8       </td> <td>1      </td> <td>4    </td> <td>N   </td>\n",
       "        </tr>\n",
       "    </tbody>\n",
       "        <tr>\n",
       "            <td>8       </td> <td>1      </td> <td>5    </td> <td>T   </td>\n",
       "        </tr>\n",
       "    </tbody>\n",
       "        <tr>\n",
       "            <td>8       </td> <td>1      </td> <td>6    </td> <td>I   </td>\n",
       "        </tr>\n",
       "    </tbody>\n",
       "        <tr>\n",
       "            <td>8       </td> <td>1      </td> <td>7    </td> <td>IS  </td>\n",
       "        </tr>\n",
       "    </tbody>\n",
       "        <tr>\n",
       "            <td>8       </td> <td>1      </td> <td>8    </td> <td>NS  </td>\n",
       "        </tr>\n",
       "    </tbody>\n",
       "        <tr>\n",
       "            <td>8       </td> <td>1      </td> <td>9    </td> <td>NA  </td>\n",
       "        </tr>\n",
       "    </tbody>\n",
       "        <tr>\n",
       "            <td>8       </td> <td>1      </td> <td>10   </td> <td>K   </td>\n",
       "        </tr>\n",
       "    </tbody>\n",
       "</table>\n",
       "<p>... (13190 rows omitted)</p>"
      ],
      "text/plain": [
       "Language | Speaker | Index | Term\n",
       "8        | 1       | 1     | A\n",
       "8        | 1       | 2     | A\n",
       "8        | 1       | 3     | AM\n",
       "8        | 1       | 4     | N\n",
       "8        | 1       | 5     | T\n",
       "8        | 1       | 6     | I\n",
       "8        | 1       | 7     | IS\n",
       "8        | 1       | 8     | NS\n",
       "8        | 1       | 9     | NA\n",
       "8        | 1       | 10    | K\n",
       "... (13190 rows omitted)"
      ]
     },
     "execution_count": 270,
     "metadata": {},
     "output_type": "execute_result"
    }
   ],
   "source": [
    "nt8_61 = namingTable.where('Language', are.contained_in([8, 61]))\n",
    "nt8_61"
   ]
  },
  {
   "cell_type": "code",
   "execution_count": 30,
   "metadata": {},
   "outputs": [
    {
     "data": {
      "text/plain": [
       "{'max': [91, 20], 'min': [[50, 3], [56, 3], [77, 3], [104, 3], [105, 3]]}"
      ]
     },
     "execution_count": 30,
     "metadata": {},
     "output_type": "execute_result"
    }
   ],
   "source": [
    "from wcsHelper import *\n",
    "\n",
    "langdict = readNamingData()\n",
    "maxmin = {'max': ['lang', 0], 'min': [['lang', 5]]} #arbitrarily set 5 because no language has 0 unique color terms\n",
    "for i in np.arange(1, 110+1):\n",
    "    v = len(set(list(langdict[i][1].values())))\n",
    "    if v > maxmin['max'][1]:\n",
    "        maxmin['max'] = [i, v]\n",
    "    elif v < maxmin['min'][0][1]:\n",
    "        maxmin['min'] = [[i, v]]\n",
    "    elif v == maxmin['min'][0][1]:\n",
    "        maxmin['min'].append([i, v])\n",
    "    elif v == maxmin['max'][0]:\n",
    "        maxmin['max'].append([i, v])\n",
    "maxmin"
   ]
  },
  {
   "cell_type": "code",
   "execution_count": 243,
   "metadata": {},
   "outputs": [
    {
     "data": {
      "text/html": [
       "<table border=\"1\" class=\"dataframe\">\n",
       "    <thead>\n",
       "        <tr>\n",
       "            <th>Language</th> <th>Speaker</th> <th>Age</th> <th>Gender</th>\n",
       "        </tr>\n",
       "    </thead>\n",
       "    <tbody>\n",
       "        <tr>\n",
       "            <td>1       </td> <td>1      </td> <td>90  </td> <td>M     </td>\n",
       "        </tr>\n",
       "    </tbody>\n",
       "        <tr>\n",
       "            <td>1       </td> <td>2      </td> <td>26  </td> <td>M     </td>\n",
       "        </tr>\n",
       "    </tbody>\n",
       "        <tr>\n",
       "            <td>1       </td> <td>3      </td> <td>38  </td> <td>M     </td>\n",
       "        </tr>\n",
       "    </tbody>\n",
       "        <tr>\n",
       "            <td>1       </td> <td>4      </td> <td>35  </td> <td>M     </td>\n",
       "        </tr>\n",
       "    </tbody>\n",
       "        <tr>\n",
       "            <td>1       </td> <td>5      </td> <td>80  </td> <td>M     </td>\n",
       "        </tr>\n",
       "    </tbody>\n",
       "        <tr>\n",
       "            <td>1       </td> <td>6      </td> <td>48  </td> <td>M     </td>\n",
       "        </tr>\n",
       "    </tbody>\n",
       "        <tr>\n",
       "            <td>1       </td> <td>7      </td> <td>26  </td> <td>M     </td>\n",
       "        </tr>\n",
       "    </tbody>\n",
       "        <tr>\n",
       "            <td>1       </td> <td>8      </td> <td>39  </td> <td>M     </td>\n",
       "        </tr>\n",
       "    </tbody>\n",
       "        <tr>\n",
       "            <td>1       </td> <td>9      </td> <td>47  </td> <td>F     </td>\n",
       "        </tr>\n",
       "    </tbody>\n",
       "        <tr>\n",
       "            <td>1       </td> <td>10     </td> <td>49  </td> <td>M     </td>\n",
       "        </tr>\n",
       "    </tbody>\n",
       "</table>\n",
       "<p>... (2608 rows omitted)</p>"
      ],
      "text/plain": [
       "Language | Speaker | Age  | Gender\n",
       "1        | 1       | 90   | M\n",
       "1        | 2       | 26   | M\n",
       "1        | 3       | 38   | M\n",
       "1        | 4       | 35   | M\n",
       "1        | 5       | 80   | M\n",
       "1        | 6       | 48   | M\n",
       "1        | 7       | 26   | M\n",
       "1        | 8       | 39   | M\n",
       "1        | 9       | 47   | F\n",
       "1        | 10      | 49   | M\n",
       "... (2608 rows omitted)"
      ]
     },
     "execution_count": 243,
     "metadata": {},
     "output_type": "execute_result"
    }
   ],
   "source": [
    "speakerTable"
   ]
  },
  {
   "cell_type": "code",
   "execution_count": 153,
   "metadata": {},
   "outputs": [
    {
     "data": {
      "text/html": [
       "<table border=\"1\" class=\"dataframe\">\n",
       "    <thead>\n",
       "        <tr>\n",
       "            <th>Language</th> <th>Speaker</th> <th>Age</th> <th>Gender</th> <th>Age (int)</th>\n",
       "        </tr>\n",
       "    </thead>\n",
       "    <tbody>\n",
       "        <tr>\n",
       "            <td>61      </td> <td>14     </td> <td>45  </td> <td>M     </td> <td>45       </td>\n",
       "        </tr>\n",
       "    </tbody>\n",
       "        <tr>\n",
       "            <td>61      </td> <td>1      </td> <td>20  </td> <td>F     </td> <td>20       </td>\n",
       "        </tr>\n",
       "    </tbody>\n",
       "        <tr>\n",
       "            <td>61      </td> <td>9      </td> <td>28  </td> <td>M     </td> <td>28       </td>\n",
       "        </tr>\n",
       "    </tbody>\n",
       "        <tr>\n",
       "            <td>61      </td> <td>4      </td> <td>11  </td> <td>M     </td> <td>11       </td>\n",
       "        </tr>\n",
       "    </tbody>\n",
       "        <tr>\n",
       "            <td>61      </td> <td>9      </td> <td>28  </td> <td>M     </td> <td>28       </td>\n",
       "        </tr>\n",
       "    </tbody>\n",
       "        <tr>\n",
       "            <td>61      </td> <td>10     </td> <td>30  </td> <td>M     </td> <td>30       </td>\n",
       "        </tr>\n",
       "    </tbody>\n",
       "        <tr>\n",
       "            <td>61      </td> <td>12     </td> <td>47  </td> <td>M     </td> <td>47       </td>\n",
       "        </tr>\n",
       "    </tbody>\n",
       "        <tr>\n",
       "            <td>61      </td> <td>3      </td> <td>45  </td> <td>F     </td> <td>45       </td>\n",
       "        </tr>\n",
       "    </tbody>\n",
       "        <tr>\n",
       "            <td>61      </td> <td>7      </td> <td>27  </td> <td>M     </td> <td>27       </td>\n",
       "        </tr>\n",
       "    </tbody>\n",
       "        <tr>\n",
       "            <td>61      </td> <td>8      </td> <td>28  </td> <td>M     </td> <td>28       </td>\n",
       "        </tr>\n",
       "    </tbody>\n",
       "</table>\n",
       "<p>... (990 rows omitted)</p>"
      ],
      "text/plain": [
       "Language | Speaker | Age  | Gender | Age (int)\n",
       "61       | 14      | 45   | M      | 45\n",
       "61       | 1       | 20   | F      | 20\n",
       "61       | 9       | 28   | M      | 28\n",
       "61       | 4       | 11   | M      | 11\n",
       "61       | 9       | 28   | M      | 28\n",
       "61       | 10      | 30   | M      | 30\n",
       "61       | 12      | 47   | M      | 47\n",
       "61       | 3       | 45   | F      | 45\n",
       "61       | 7       | 27   | M      | 27\n",
       "61       | 8       | 28   | M      | 28\n",
       "... (990 rows omitted)"
      ]
     },
     "execution_count": 153,
     "metadata": {},
     "output_type": "execute_result"
    }
   ],
   "source": [
    "speakerTable.where('Language', 61)"
   ]
  },
  {
   "cell_type": "code",
   "execution_count": null,
   "metadata": {},
   "outputs": [],
   "source": []
  },
  {
   "cell_type": "code",
   "execution_count": null,
   "metadata": {},
   "outputs": [],
   "source": []
  },
  {
   "cell_type": "markdown",
   "metadata": {},
   "source": [
    "# Visualising the data<a id='section 2'>\n",
    "\n",
    "Plotting correlation matrix, pairplots, and histograms"
   ]
  },
  {
   "cell_type": "code",
   "execution_count": null,
   "metadata": {},
   "outputs": [],
   "source": []
  },
  {
   "cell_type": "code",
   "execution_count": null,
   "metadata": {},
   "outputs": [],
   "source": []
  },
  {
   "cell_type": "code",
   "execution_count": null,
   "metadata": {},
   "outputs": [],
   "source": []
  },
  {
   "cell_type": "markdown",
   "metadata": {},
   "source": [
    "# Color Space Visualisations<a id='section last'>"
   ]
  },
  {
   "cell_type": "code",
   "execution_count": 78,
   "metadata": {},
   "outputs": [],
   "source": [
    "import matplotlib.pyplot as plt\n",
    "from mpl_toolkits import mplot3d"
   ]
  },
  {
   "cell_type": "code",
   "execution_count": 79,
   "metadata": {},
   "outputs": [],
   "source": [
    "from colormath.color_objects import sRGBColor\n",
    "from colormath.color_conversions import convert_color"
   ]
  },
  {
   "cell_type": "code",
   "execution_count": 80,
   "metadata": {},
   "outputs": [],
   "source": [
    "lz = data.column('l')\n",
    "a_x = data.column('a')\n",
    "by = data.column('b')"
   ]
  },
  {
   "cell_type": "code",
   "execution_count": 124,
   "metadata": {
    "scrolled": true
   },
   "outputs": [],
   "source": [
    "hexcolor = make_array()\n",
    "for i in np.arange(len(a_x)):\n",
    "    lab = LabColor(lz[i], a_x[i], by[i])\n",
    "    rgb = convert_color(lab, sRGBColor)\n",
    "    hexcolor = np.append(hexcolor, rgb.get_rgb_hex())\n",
    "\n",
    "colors = []\n",
    "for i in np.arange(len(a_x)):\n",
    "    lab = LabColor(lz[i], a_x[i], by[i])\n",
    "    rgb = convert_color(lab, sRGBColor)\n",
    "    r = str(rgb.get_value_tuple()[0] * 255)\n",
    "    g = str(rgb.get_value_tuple()[1] * 255)\n",
    "    b = str(rgb.get_value_tuple()[2] * 255)\n",
    "    color = 'rgb(152, 0, 0)'\n",
    "    colors += ['rgb('+ r + ', ' + g +', ' +  b + ')']"
   ]
  },
  {
   "cell_type": "code",
   "execution_count": 82,
   "metadata": {},
   "outputs": [],
   "source": [
    "import plotly\n",
    "import plotly.plotly as py\n",
    "import plotly.graph_objs as go\n",
    "plotly.tools.set_credentials_file(username='jasonsjiang', api_key='AIzrMaB4zhCuQ8U49Vx1')"
   ]
  },
  {
   "cell_type": "code",
   "execution_count": 83,
   "metadata": {
    "scrolled": false
   },
   "outputs": [
    {
     "data": {
      "text/html": [
       "<iframe id=\"igraph\" scrolling=\"no\" style=\"border:none;\" seamless=\"seamless\" src=\"https://plot.ly/~jasonsjiang/68.embed\" height=\"525px\" width=\"700px\"></iframe>"
      ],
      "text/plain": [
       "<plotly.tools.PlotlyDisplay object>"
      ]
     },
     "execution_count": 83,
     "metadata": {},
     "output_type": "execute_result"
    }
   ],
   "source": [
    "all_color = go.Scatter3d(\n",
    "    x=a_x,\n",
    "    y=by,\n",
    "    z=lz,\n",
    "    mode='markers',\n",
    "    marker=dict(\n",
    "        size=8.5,\n",
    "        color=colors,  \n",
    "        opacity=0.8))\n",
    "\n",
    "data = [all_color]\n",
    "layout = go.Layout(\n",
    "    title='Color Space (LAB to RGB)',\n",
    "    scene = dict(\n",
    "        xaxis = dict(title='a*'),\n",
    "        yaxis = dict(title='b*'),\n",
    "        zaxis = dict(title='L*'),),\n",
    "    width=700,\n",
    "    margin = dict(l=0, r=0, b=0, t=0)\n",
    "    )\n",
    "\n",
    "fig = go.Figure(data=data, layout=layout)\n",
    "py.iplot(fig, file='LABColor')"
   ]
  },
  {
   "cell_type": "code",
   "execution_count": 116,
   "metadata": {},
   "outputs": [],
   "source": [
    "%matplotlib inline\n",
    "plt.style.use('fivethirtyeight')\n",
    "from mpl_toolkits.mplot3d import Axes3D\n",
    "from matplotlib.colors import *"
   ]
  },
  {
   "cell_type": "code",
   "execution_count": 125,
   "metadata": {
    "scrolled": true
   },
   "outputs": [],
   "source": [
    "colorzzz = []\n",
    "for i in np.arange(len(a_x)):\n",
    "    lab = LabColor(lz[i], a_x[i], by[i])\n",
    "    rgb = convert_color(lab, sRGBColor)\n",
    "    r = rgb.get_value_tuple()[0]\n",
    "    g = rgb.get_value_tuple()[1]\n",
    "    b = rgb.get_value_tuple()[2]\n",
    "    colorzzz.append((r, g, b))\n",
    "colorzzz\n",
    "\n",
    "a = np.array([colorzzz[0]])\n",
    "for i in np.arange(0, 330):\n",
    "    a = np.vstack([a, colorzzz[i]])\n",
    "numbered = a[1:]"
   ]
  },
  {
   "cell_type": "code",
   "execution_count": 128,
   "metadata": {},
   "outputs": [],
   "source": [
    "#correct the index \n",
    "def find(lst):\n",
    "    index = 0\n",
    "    for i in lst:\n",
    "        if i == '#100be00':\n",
    "            return index\n",
    "        index += 1\n",
    "fix = find(hexcolor)\n",
    "hexcolor[fix] = '#00be00'"
   ]
  },
  {
   "cell_type": "code",
   "execution_count": 130,
   "metadata": {
    "scrolled": false
   },
   "outputs": [
    {
     "data": {
      "image/png": "[encoded data removed]",
      "text/plain": [
       "<matplotlib.figure.Figure at 0x117f268d0>"
      ]
     },
     "metadata": {},
     "output_type": "display_data"
    }
   ],
   "source": [
    "fig = plt.figure(figsize = (10, 7.5))\n",
    "ax = fig.add_subplot(111, projection='3d')\n",
    "\n",
    "for i in np.arange(330):\n",
    "    ax.scatter(a_x[i], by[i], lz[i], color = matplotlib.colors.to_rgba(hexcolor[i]), s=30)\n",
    "plt.show()"
   ]
  },
  {
   "cell_type": "code",
   "execution_count": 100,
   "metadata": {},
   "outputs": [],
   "source": [
    "hexcolor = make_array()\n",
    "for i in np.arange(len(a_x)):\n",
    "    lab = LabColor(lz[i], a_x[i], by[i])\n",
    "    rgb = convert_color(lab, sRGBColor)\n",
    "    hexcolor = np.append(hexcolor, rgb.get_rgb_hex())"
   ]
  },
  {
   "cell_type": "code",
   "execution_count": 89,
   "metadata": {},
   "outputs": [],
   "source": [
    "def plot_colors(colors):\n",
    "    hexcolor = np.array([])\n",
    "    for i in np.arange(len(colors)):\n",
    "        L = colors[i][0]\n",
    "        A = colors[i][1]\n",
    "        B = colors[i][2]\n",
    "        lab = LabColor(L, A, B)\n",
    "        rgb = convert_color(lab, sRGBColor)\n",
    "        hexcolor = np.append(hexcolor, rgb.get_rgb_hex())\n",
    "    fig = plt.figure(figsize = (10, 7.5))\n",
    "    ax = fig.add_subplot(111, projection='3d')\n",
    "    for i in np.arange(330):\n",
    "        ax.scatter(A, B, L, color = matplotlib.colors.to_rgba(hexcolor[i]), s=30)\n",
    "    plt.show()"
   ]
  },
  {
   "cell_type": "code",
   "execution_count": 143,
   "metadata": {},
   "outputs": [],
   "source": [
    "#for plotting\n",
    "from wcsHelper import *\n",
    "munsell_to_chip, chip_to_munsell, chip_to_clab, chip_to_rgb = readChipData('chipnum-info.txt')\n",
    "\n",
    "lg86sp1 = langdict[73][1]\n",
    "grid861 = naming2grid(lg86sp1, chip_to_rgb)\n",
    "colors = grid861\n",
    "tx = [i[1]*100 for i in colors]\n",
    "ty = [i[2]*100 for i in colors]\n",
    "tz = [i[0]*100 for i in colors]"
   ]
  },
  {
   "cell_type": "code",
   "execution_count": 144,
   "metadata": {
    "scrolled": false
   },
   "outputs": [
    {
     "data": {
      "image/png": "[encoded data removed]",
      "text/plain": [
       "<matplotlib.figure.Figure at 0x115656cc0>"
      ]
     },
     "metadata": {},
     "output_type": "display_data"
    }
   ],
   "source": [
    "hexcolor = np.array([])\n",
    "for i in np.arange(len(colors)):\n",
    "    lab = LabColor(tx[i], ty[i], tz[i])\n",
    "    rgb = convert_color(lab, sRGBColor)\n",
    "    hexcolor = np.append(hexcolor, rgb.get_rgb_hex())\n",
    "for i in range(len(hexcolor)):\n",
    "    if len(hexcolor[i]) > 7:\n",
    "        hexcolor[i] = '#'+str(hexcolor[i][2:])\n",
    "fig = plt.figure(figsize =(10, 7.5))\n",
    "ax = fig.add_subplot(111, projection='3d')\n",
    "for i in np.arange(330):\n",
    "    ax.scatter(tz[i], tx[i], ty[i], color = matplotlib.colors.to_rgba(hexcolor[i]), s=40)\n",
    "plt.show()"
   ]
  },
  {
   "cell_type": "code",
   "execution_count": null,
   "metadata": {},
   "outputs": [],
   "source": []
  },
  {
   "cell_type": "code",
   "execution_count": 45,
   "metadata": {},
   "outputs": [],
   "source": [
    "#for plotly\n",
    "test_colors = []\n",
    "tx = [i[1]*100 for i in colors]\n",
    "ty = [i[2]*100 for i in colors]\n",
    "tz = [i[0]*100 for i in colors]\n",
    "for i in np.arange(len(tx)):\n",
    "    lab = LabColor(tx[i], ty[i], tz[i])\n",
    "    rgb = convert_color(lab, sRGBColor)\n",
    "    r = str(rgb.get_value_tuple()[0] * 255)\n",
    "    g = str(rgb.get_value_tuple()[1] * 255)\n",
    "    b = str(rgb.get_value_tuple()[2] * 255)\n",
    "    test_colors += ['rgb('+ r + ', ' + g +', ' +  b + ')']"
   ]
  }
 ],
 "metadata": {
  "kernelspec": {
   "display_name": "Python 3",
   "language": "python",
   "name": "python3"
  },
  "language_info": {
   "codemirror_mode": {
    "name": "ipython",
    "version": 3
   },
   "file_extension": ".py",
   "mimetype": "text/x-python",
   "name": "python",
   "nbconvert_exporter": "python",
   "pygments_lexer": "ipython3",
   "version": "3.6.3"
  }
 },
 "nbformat": 4,
 "nbformat_minor": 2
}
